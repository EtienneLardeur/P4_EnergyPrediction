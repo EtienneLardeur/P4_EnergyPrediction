{
 "cells": [
  {
   "cell_type": "code",
   "execution_count": 1,
   "metadata": {},
   "outputs": [],
   "source": [
    "%load_ext pycodestyle_magic\n",
    "%flake8_on"
   ]
  },
  {
   "cell_type": "markdown",
   "metadata": {},
   "source": [
    "# Objectifs du projet\n",
    "\n",
    "Nous cherchons à déterminer les bons axes d'analyse des relevés de consommation de la ville de Seattle, afin d'expliciter puis répondre aux objectifs suivants: \n",
    "- Tenter de prédire les émissions de CO2 et la consommation totale d’énergie de bâtiments pour lesquels elles n’ont pas encore été mesurées,\n",
    "- Evaluer l'intérêt de l'ENERGYSTARScore pour la prédiction d'émissions,\n",
    "- L'objectif à l'horizon 2050 est la neutralité carbone et à ce titre la priorité est donnée aux émissions de CO2 des bâtiments non destinées à l'habitation.\n",
    "\n",
    "Nous pourrons donc identifier :<br/>\n",
    "Notebook 1 - Explore Results :<br/>\n",
    "- les features de résultats (outputs) les plus appropriés,\n",
    "- les features de profil (inputs) additionnels dérivés des features de résultats sans aller jusqu'à la fuite de données  (exploitation détournée d'output en tant qu'input entrainant un surapprentissage).<br/>\n",
    "\n",
    "Notebook 2 - Explore Profiles :<br/>\n",
    "- les features de profil (inputs) caractérisants les bâtiments dont on souhaite prédire les niveaux de consommation et d'émission, i.e. tout nouveau bâtiment n'ayant fait l'objet d'aucune campagne de mesure,\n",
    "- les features de profil (inputs) additionnels dérivés des features de profil.<br/>\n",
    "\n",
    "Notebook 3 - Prepare :<br/>\n",
    "- les transformations des features permettant d'optimiser les performances,\n",
    "- la restriction des relevés aux bâtiments \"non destinés à l'habitation\", ainsi que ceux pour lesquels un relevé existe en 2015 mais pas en 2016 et inversement. <br/>\n",
    "\n",
    "Puis dans la phase de modélisation, investiguer :<br/>\n",
    "Notebook 4 - Models :<br/>\n",
    "- les critères d'évaluation de la performance,\n",
    "- la revue des modèles et leurs paramètres et hyperparamètres,\n",
    "- l'évaluation de l'intérêt de la prise en compte de l'ENERGYSTARScore dans la prédiction des émissions,\n",
    "- l'analyse de l'impact de la prise en compte des inputs features bruts ou additionnels dans cette performance,\n",
    "\n",
    "Pour cela il faut d'abord fusionner les relevés disponibles.<br/>\n",
    "C'est l'objet du présent Notebook 0 - Merge.\n"
   ]
  },
  {
   "cell_type": "markdown",
   "metadata": {},
   "source": [
    "# Merge\n",
    "\n",
    "## Comparaison des relevés annuels et concaténation\n",
    "\n",
    "### Comparaison des features disponibles"
   ]
  },
  {
   "cell_type": "code",
   "execution_count": 2,
   "metadata": {},
   "outputs": [],
   "source": [
    "# importer les packages\n",
    "import pandas as pd\n",
    "import numpy as np\n",
    "import matplotlib.pyplot as plt\n",
    "import seaborn as sns\n",
    "# Abstract Syntaxt Tree : décomposition d'un container {'a': 'x', 'b': 'y'}.\n",
    "from ast import literal_eval\n",
    "# Pour afficher tout le contenu d'une valeur.\n",
    "pd.set_option('display.max_colwidth', -1)\n",
    "# Pour afficher toutes les colonnes\n",
    "pd.options.display.max_columns = 100\n",
    "# Pour afficher les graphiques"
   ]
  },
  {
   "cell_type": "code",
   "execution_count": 3,
   "metadata": {
    "scrolled": false
   },
   "outputs": [],
   "source": [
    "# créer d'un dataframe pour chaque relevé\n",
    "dat16 = pd.read_csv('2016-building-energy-benchmarking.csv')\n",
    "dat15 = pd.read_csv('2015-building-energy-benchmarking.csv')\n",
    "# lister les features pour chaque relevé\n",
    "feat16 = dat16.columns\n",
    "feat15 = dat15.columns\n",
    "# initialiser les descriptions détaillées et ajout du type et du nb de nan\n",
    "explore16 = dat16.describe(include='all').T\n",
    "explore15 = dat15.describe(include='all').T\n",
    "explore16['dtype'] = dat16.dtypes.T\n",
    "explore15['dtype'] = dat15.dtypes.T\n",
    "explore16['NaN_sum'] = dat16.isna().sum().T\n",
    "explore15['NaN_sum'] = dat15.isna().sum().T\n",
    "# créer un csv pour l'exploitation externe (ergonomie améliorée)\n",
    "explore16.to_csv('explore16.csv')\n",
    "explore15.to_csv('explore15.csv')"
   ]
  },
  {
   "cell_type": "code",
   "execution_count": 4,
   "metadata": {
    "scrolled": true
   },
   "outputs": [
    {
     "data": {
      "text/html": [
       "<div>\n",
       "<style scoped>\n",
       "    .dataframe tbody tr th:only-of-type {\n",
       "        vertical-align: middle;\n",
       "    }\n",
       "\n",
       "    .dataframe tbody tr th {\n",
       "        vertical-align: top;\n",
       "    }\n",
       "\n",
       "    .dataframe thead th {\n",
       "        text-align: right;\n",
       "    }\n",
       "</style>\n",
       "<table border=\"1\" class=\"dataframe\">\n",
       "  <thead>\n",
       "    <tr style=\"text-align: right;\">\n",
       "      <th></th>\n",
       "      <th>count</th>\n",
       "      <th>unique</th>\n",
       "      <th>top</th>\n",
       "      <th>freq</th>\n",
       "      <th>mean</th>\n",
       "      <th>std</th>\n",
       "      <th>min</th>\n",
       "      <th>25%</th>\n",
       "      <th>50%</th>\n",
       "      <th>75%</th>\n",
       "      <th>max</th>\n",
       "      <th>dtype</th>\n",
       "      <th>NaN_sum</th>\n",
       "    </tr>\n",
       "  </thead>\n",
       "  <tbody>\n",
       "    <tr>\n",
       "      <td>ComplianceStatus</td>\n",
       "      <td>3340</td>\n",
       "      <td>2</td>\n",
       "      <td>Compliant</td>\n",
       "      <td>3337</td>\n",
       "      <td>NaN</td>\n",
       "      <td>NaN</td>\n",
       "      <td>NaN</td>\n",
       "      <td>NaN</td>\n",
       "      <td>NaN</td>\n",
       "      <td>NaN</td>\n",
       "      <td>NaN</td>\n",
       "      <td>object</td>\n",
       "      <td>0</td>\n",
       "    </tr>\n",
       "    <tr>\n",
       "      <td>ThirdLargestPropertyUseTypeGFA</td>\n",
       "      <td>560</td>\n",
       "      <td>NaN</td>\n",
       "      <td>NaN</td>\n",
       "      <td>NaN</td>\n",
       "      <td>10755.7</td>\n",
       "      <td>22618.5</td>\n",
       "      <td>0</td>\n",
       "      <td>2385.25</td>\n",
       "      <td>5019.5</td>\n",
       "      <td>10275</td>\n",
       "      <td>303910</td>\n",
       "      <td>float64</td>\n",
       "      <td>2780</td>\n",
       "    </tr>\n",
       "    <tr>\n",
       "      <td>PrimaryPropertyType</td>\n",
       "      <td>3340</td>\n",
       "      <td>27</td>\n",
       "      <td>Low-Rise Multifamily</td>\n",
       "      <td>998</td>\n",
       "      <td>NaN</td>\n",
       "      <td>NaN</td>\n",
       "      <td>NaN</td>\n",
       "      <td>NaN</td>\n",
       "      <td>NaN</td>\n",
       "      <td>NaN</td>\n",
       "      <td>NaN</td>\n",
       "      <td>object</td>\n",
       "      <td>0</td>\n",
       "    </tr>\n",
       "  </tbody>\n",
       "</table>\n",
       "</div>"
      ],
      "text/plain": [
       "                               count unique                   top  freq  \\\n",
       "ComplianceStatus                3340  2      Compliant             3337   \n",
       "ThirdLargestPropertyUseTypeGFA  560   NaN    NaN                   NaN    \n",
       "PrimaryPropertyType             3340  27     Low-Rise Multifamily  998    \n",
       "\n",
       "                                   mean      std  min      25%     50%    75%  \\\n",
       "ComplianceStatus                NaN      NaN      NaN  NaN      NaN     NaN     \n",
       "ThirdLargestPropertyUseTypeGFA  10755.7  22618.5  0    2385.25  5019.5  10275   \n",
       "PrimaryPropertyType             NaN      NaN      NaN  NaN      NaN     NaN     \n",
       "\n",
       "                                   max    dtype  NaN_sum  \n",
       "ComplianceStatus                NaN     object   0        \n",
       "ThirdLargestPropertyUseTypeGFA  303910  float64  2780     \n",
       "PrimaryPropertyType             NaN     object   0        "
      ]
     },
     "execution_count": 4,
     "metadata": {},
     "output_type": "execute_result"
    }
   ],
   "source": [
    "# exemples 2015\n",
    "explore15.sample(3)"
   ]
  },
  {
   "cell_type": "code",
   "execution_count": 5,
   "metadata": {
    "scrolled": true
   },
   "outputs": [
    {
     "data": {
      "text/html": [
       "<div>\n",
       "<style scoped>\n",
       "    .dataframe tbody tr th:only-of-type {\n",
       "        vertical-align: middle;\n",
       "    }\n",
       "\n",
       "    .dataframe tbody tr th {\n",
       "        vertical-align: top;\n",
       "    }\n",
       "\n",
       "    .dataframe thead th {\n",
       "        text-align: right;\n",
       "    }\n",
       "</style>\n",
       "<table border=\"1\" class=\"dataframe\">\n",
       "  <thead>\n",
       "    <tr style=\"text-align: right;\">\n",
       "      <th></th>\n",
       "      <th>count</th>\n",
       "      <th>unique</th>\n",
       "      <th>top</th>\n",
       "      <th>freq</th>\n",
       "      <th>mean</th>\n",
       "      <th>std</th>\n",
       "      <th>min</th>\n",
       "      <th>25%</th>\n",
       "      <th>50%</th>\n",
       "      <th>75%</th>\n",
       "      <th>max</th>\n",
       "      <th>dtype</th>\n",
       "      <th>NaN_sum</th>\n",
       "    </tr>\n",
       "  </thead>\n",
       "  <tbody>\n",
       "    <tr>\n",
       "      <td>Electricity(kBtu)</td>\n",
       "      <td>3367</td>\n",
       "      <td>NaN</td>\n",
       "      <td>NaN</td>\n",
       "      <td>NaN</td>\n",
       "      <td>3.70761e+06</td>\n",
       "      <td>1.48507e+07</td>\n",
       "      <td>-115417</td>\n",
       "      <td>639487</td>\n",
       "      <td>1.17758e+06</td>\n",
       "      <td>2.82963e+06</td>\n",
       "      <td>6.57074e+08</td>\n",
       "      <td>float64</td>\n",
       "      <td>9</td>\n",
       "    </tr>\n",
       "    <tr>\n",
       "      <td>City</td>\n",
       "      <td>3376</td>\n",
       "      <td>1</td>\n",
       "      <td>Seattle</td>\n",
       "      <td>3376</td>\n",
       "      <td>NaN</td>\n",
       "      <td>NaN</td>\n",
       "      <td>NaN</td>\n",
       "      <td>NaN</td>\n",
       "      <td>NaN</td>\n",
       "      <td>NaN</td>\n",
       "      <td>NaN</td>\n",
       "      <td>object</td>\n",
       "      <td>0</td>\n",
       "    </tr>\n",
       "    <tr>\n",
       "      <td>ListOfAllPropertyUseTypes</td>\n",
       "      <td>3367</td>\n",
       "      <td>466</td>\n",
       "      <td>Multifamily Housing</td>\n",
       "      <td>866</td>\n",
       "      <td>NaN</td>\n",
       "      <td>NaN</td>\n",
       "      <td>NaN</td>\n",
       "      <td>NaN</td>\n",
       "      <td>NaN</td>\n",
       "      <td>NaN</td>\n",
       "      <td>NaN</td>\n",
       "      <td>object</td>\n",
       "      <td>9</td>\n",
       "    </tr>\n",
       "  </tbody>\n",
       "</table>\n",
       "</div>"
      ],
      "text/plain": [
       "                          count unique                  top  freq  \\\n",
       "Electricity(kBtu)          3367  NaN    NaN                  NaN    \n",
       "City                       3376  1      Seattle              3376   \n",
       "ListOfAllPropertyUseTypes  3367  466    Multifamily Housing  866    \n",
       "\n",
       "                                  mean          std     min     25%  \\\n",
       "Electricity(kBtu)          3.70761e+06  1.48507e+07 -115417  639487   \n",
       "City                       NaN          NaN          NaN     NaN      \n",
       "ListOfAllPropertyUseTypes  NaN          NaN          NaN     NaN      \n",
       "\n",
       "                                   50%          75%          max    dtype  \\\n",
       "Electricity(kBtu)          1.17758e+06  2.82963e+06  6.57074e+08  float64   \n",
       "City                       NaN          NaN          NaN          object    \n",
       "ListOfAllPropertyUseTypes  NaN          NaN          NaN          object    \n",
       "\n",
       "                           NaN_sum  \n",
       "Electricity(kBtu)          9        \n",
       "City                       0        \n",
       "ListOfAllPropertyUseTypes  9        "
      ]
     },
     "execution_count": 5,
     "metadata": {},
     "output_type": "execute_result"
    }
   ],
   "source": [
    "# exemples 2015\n",
    "explore16.sample(3)"
   ]
  },
  {
   "cell_type": "markdown",
   "metadata": {},
   "source": [
    "### Réalignement des features\n",
    "Via exploitation des fichiers .json et observation des données contenues.\n"
   ]
  },
  {
   "cell_type": "code",
   "execution_count": 6,
   "metadata": {
    "scrolled": true
   },
   "outputs": [
    {
     "name": "stdout",
     "output_type": "stream",
     "text": [
      "liste des features 2015 absents du relevé 2016 : \n",
      "Index(['2010 Census Tracts', 'City Council Districts', 'Comment',\n",
      "       'GHGEmissions(MetricTonsCO2e)', 'GHGEmissionsIntensity(kgCO2e/ft2)',\n",
      "       'Location', 'OtherFuelUse(kBtu)', 'SPD Beats',\n",
      "       'Seattle Police Department Micro Community Policing Plan Areas',\n",
      "       'Zip Codes'],\n",
      "      dtype='object')\n",
      "liste des features 2016 absents du relevé 2015 : \n",
      "Index(['Address', 'City', 'Comments', 'GHGEmissionsIntensity', 'Latitude',\n",
      "       'Longitude', 'State', 'TotalGHGEmissions', 'ZipCode'],\n",
      "      dtype='object')\n"
     ]
    }
   ],
   "source": [
    "# features présents en 2015 mais pas en 2016 :\n",
    "print('liste des features 2015 absents du relevé 2016 : \\n'\n",
    "      + str(feat15.difference(feat16)))\n",
    "# features présents en 2016 mais pas en 2015 :\n",
    "print('liste des features 2016 absents du relevé 2015 : \\n'\n",
    "      + str(feat16.difference(feat15)))"
   ]
  },
  {
   "cell_type": "markdown",
   "metadata": {},
   "source": [
    "- on compare 2 à 2 les émissions totales et intensité d'émissions dont les libellés sont différents dans les 2 relevés."
   ]
  },
  {
   "cell_type": "code",
   "execution_count": 7,
   "metadata": {
    "scrolled": true
   },
   "outputs": [
    {
     "data": {
      "text/html": [
       "<div>\n",
       "<style scoped>\n",
       "    .dataframe tbody tr th:only-of-type {\n",
       "        vertical-align: middle;\n",
       "    }\n",
       "\n",
       "    .dataframe tbody tr th {\n",
       "        vertical-align: top;\n",
       "    }\n",
       "\n",
       "    .dataframe thead th {\n",
       "        text-align: right;\n",
       "    }\n",
       "</style>\n",
       "<table border=\"1\" class=\"dataframe\">\n",
       "  <thead>\n",
       "    <tr style=\"text-align: right;\">\n",
       "      <th></th>\n",
       "      <th>count</th>\n",
       "      <th>unique</th>\n",
       "      <th>top</th>\n",
       "      <th>freq</th>\n",
       "      <th>mean</th>\n",
       "      <th>std</th>\n",
       "      <th>min</th>\n",
       "      <th>25%</th>\n",
       "      <th>50%</th>\n",
       "      <th>75%</th>\n",
       "      <th>max</th>\n",
       "      <th>dtype</th>\n",
       "      <th>NaN_sum</th>\n",
       "    </tr>\n",
       "  </thead>\n",
       "  <tbody>\n",
       "    <tr>\n",
       "      <td>GHGEmissions(MetricTonsCO2e)</td>\n",
       "      <td>3330</td>\n",
       "      <td>NaN</td>\n",
       "      <td>NaN</td>\n",
       "      <td>NaN</td>\n",
       "      <td>110.094</td>\n",
       "      <td>409.45</td>\n",
       "      <td>0</td>\n",
       "      <td>9.265</td>\n",
       "      <td>32.74</td>\n",
       "      <td>88.6425</td>\n",
       "      <td>11824.9</td>\n",
       "      <td>float64</td>\n",
       "      <td>10</td>\n",
       "    </tr>\n",
       "  </tbody>\n",
       "</table>\n",
       "</div>"
      ],
      "text/plain": [
       "                             count unique  top freq     mean     std min  \\\n",
       "GHGEmissions(MetricTonsCO2e)  3330  NaN    NaN  NaN  110.094  409.45  0    \n",
       "\n",
       "                                25%    50%      75%      max    dtype  NaN_sum  \n",
       "GHGEmissions(MetricTonsCO2e)  9.265  32.74  88.6425  11824.9  float64  10       "
      ]
     },
     "execution_count": 7,
     "metadata": {},
     "output_type": "execute_result"
    }
   ],
   "source": [
    "# détail pour GHGEmissions(MetricTonsCO2e):\n",
    "explore15.loc[['GHGEmissions(MetricTonsCO2e)']]"
   ]
  },
  {
   "cell_type": "code",
   "execution_count": 8,
   "metadata": {},
   "outputs": [
    {
     "data": {
      "text/html": [
       "<div>\n",
       "<style scoped>\n",
       "    .dataframe tbody tr th:only-of-type {\n",
       "        vertical-align: middle;\n",
       "    }\n",
       "\n",
       "    .dataframe tbody tr th {\n",
       "        vertical-align: top;\n",
       "    }\n",
       "\n",
       "    .dataframe thead th {\n",
       "        text-align: right;\n",
       "    }\n",
       "</style>\n",
       "<table border=\"1\" class=\"dataframe\">\n",
       "  <thead>\n",
       "    <tr style=\"text-align: right;\">\n",
       "      <th></th>\n",
       "      <th>count</th>\n",
       "      <th>unique</th>\n",
       "      <th>top</th>\n",
       "      <th>freq</th>\n",
       "      <th>mean</th>\n",
       "      <th>std</th>\n",
       "      <th>min</th>\n",
       "      <th>25%</th>\n",
       "      <th>50%</th>\n",
       "      <th>75%</th>\n",
       "      <th>max</th>\n",
       "      <th>dtype</th>\n",
       "      <th>NaN_sum</th>\n",
       "    </tr>\n",
       "  </thead>\n",
       "  <tbody>\n",
       "    <tr>\n",
       "      <td>TotalGHGEmissions</td>\n",
       "      <td>3367</td>\n",
       "      <td>NaN</td>\n",
       "      <td>NaN</td>\n",
       "      <td>NaN</td>\n",
       "      <td>119.724</td>\n",
       "      <td>538.832</td>\n",
       "      <td>-0.8</td>\n",
       "      <td>9.495</td>\n",
       "      <td>33.92</td>\n",
       "      <td>93.94</td>\n",
       "      <td>16871</td>\n",
       "      <td>float64</td>\n",
       "      <td>9</td>\n",
       "    </tr>\n",
       "  </tbody>\n",
       "</table>\n",
       "</div>"
      ],
      "text/plain": [
       "                  count unique  top freq     mean      std  min    25%    50%  \\\n",
       "TotalGHGEmissions  3367  NaN    NaN  NaN  119.724  538.832 -0.8  9.495  33.92   \n",
       "\n",
       "                     75%    max    dtype  NaN_sum  \n",
       "TotalGHGEmissions  93.94  16871  float64  9        "
      ]
     },
     "execution_count": 8,
     "metadata": {},
     "output_type": "execute_result"
    }
   ],
   "source": [
    "# détail pour TotalGHGEmissions\n",
    "explore16.loc[['TotalGHGEmissions']]"
   ]
  },
  {
   "cell_type": "code",
   "execution_count": 9,
   "metadata": {},
   "outputs": [
    {
     "data": {
      "text/html": [
       "<div>\n",
       "<style scoped>\n",
       "    .dataframe tbody tr th:only-of-type {\n",
       "        vertical-align: middle;\n",
       "    }\n",
       "\n",
       "    .dataframe tbody tr th {\n",
       "        vertical-align: top;\n",
       "    }\n",
       "\n",
       "    .dataframe thead th {\n",
       "        text-align: right;\n",
       "    }\n",
       "</style>\n",
       "<table border=\"1\" class=\"dataframe\">\n",
       "  <thead>\n",
       "    <tr style=\"text-align: right;\">\n",
       "      <th></th>\n",
       "      <th>count</th>\n",
       "      <th>unique</th>\n",
       "      <th>top</th>\n",
       "      <th>freq</th>\n",
       "      <th>mean</th>\n",
       "      <th>std</th>\n",
       "      <th>min</th>\n",
       "      <th>25%</th>\n",
       "      <th>50%</th>\n",
       "      <th>75%</th>\n",
       "      <th>max</th>\n",
       "      <th>dtype</th>\n",
       "      <th>NaN_sum</th>\n",
       "    </tr>\n",
       "  </thead>\n",
       "  <tbody>\n",
       "    <tr>\n",
       "      <td>GHGEmissionsIntensity(kgCO2e/ft2)</td>\n",
       "      <td>3330</td>\n",
       "      <td>NaN</td>\n",
       "      <td>NaN</td>\n",
       "      <td>NaN</td>\n",
       "      <td>0.985339</td>\n",
       "      <td>1.63717</td>\n",
       "      <td>0</td>\n",
       "      <td>0.08</td>\n",
       "      <td>0.46</td>\n",
       "      <td>1.18</td>\n",
       "      <td>31.38</td>\n",
       "      <td>float64</td>\n",
       "      <td>10</td>\n",
       "    </tr>\n",
       "  </tbody>\n",
       "</table>\n",
       "</div>"
      ],
      "text/plain": [
       "                                  count unique  top freq      mean      std  \\\n",
       "GHGEmissionsIntensity(kgCO2e/ft2)  3330  NaN    NaN  NaN  0.985339  1.63717   \n",
       "\n",
       "                                  min   25%   50%   75%    max    dtype  \\\n",
       "GHGEmissionsIntensity(kgCO2e/ft2)  0   0.08  0.46  1.18  31.38  float64   \n",
       "\n",
       "                                   NaN_sum  \n",
       "GHGEmissionsIntensity(kgCO2e/ft2)  10       "
      ]
     },
     "execution_count": 9,
     "metadata": {},
     "output_type": "execute_result"
    }
   ],
   "source": [
    "# détail pour GHGEmissionsIntensity(kgCO2e/ft2)\n",
    "explore15.loc[['GHGEmissionsIntensity(kgCO2e/ft2)']]"
   ]
  },
  {
   "cell_type": "code",
   "execution_count": 10,
   "metadata": {},
   "outputs": [
    {
     "data": {
      "text/html": [
       "<div>\n",
       "<style scoped>\n",
       "    .dataframe tbody tr th:only-of-type {\n",
       "        vertical-align: middle;\n",
       "    }\n",
       "\n",
       "    .dataframe tbody tr th {\n",
       "        vertical-align: top;\n",
       "    }\n",
       "\n",
       "    .dataframe thead th {\n",
       "        text-align: right;\n",
       "    }\n",
       "</style>\n",
       "<table border=\"1\" class=\"dataframe\">\n",
       "  <thead>\n",
       "    <tr style=\"text-align: right;\">\n",
       "      <th></th>\n",
       "      <th>count</th>\n",
       "      <th>unique</th>\n",
       "      <th>top</th>\n",
       "      <th>freq</th>\n",
       "      <th>mean</th>\n",
       "      <th>std</th>\n",
       "      <th>min</th>\n",
       "      <th>25%</th>\n",
       "      <th>50%</th>\n",
       "      <th>75%</th>\n",
       "      <th>max</th>\n",
       "      <th>dtype</th>\n",
       "      <th>NaN_sum</th>\n",
       "    </tr>\n",
       "  </thead>\n",
       "  <tbody>\n",
       "    <tr>\n",
       "      <td>GHGEmissionsIntensity</td>\n",
       "      <td>3367</td>\n",
       "      <td>NaN</td>\n",
       "      <td>NaN</td>\n",
       "      <td>NaN</td>\n",
       "      <td>1.17592</td>\n",
       "      <td>1.82145</td>\n",
       "      <td>-0.02</td>\n",
       "      <td>0.21</td>\n",
       "      <td>0.61</td>\n",
       "      <td>1.37</td>\n",
       "      <td>34.09</td>\n",
       "      <td>float64</td>\n",
       "      <td>9</td>\n",
       "    </tr>\n",
       "  </tbody>\n",
       "</table>\n",
       "</div>"
      ],
      "text/plain": [
       "                      count unique  top freq     mean      std   min   25%  \\\n",
       "GHGEmissionsIntensity  3367  NaN    NaN  NaN  1.17592  1.82145 -0.02  0.21   \n",
       "\n",
       "                        50%   75%    max    dtype  NaN_sum  \n",
       "GHGEmissionsIntensity  0.61  1.37  34.09  float64  9        "
      ]
     },
     "execution_count": 10,
     "metadata": {},
     "output_type": "execute_result"
    }
   ],
   "source": [
    "# détail pour GHGEmissionsIntensity\n",
    "explore16.loc[['GHGEmissionsIntensity']]"
   ]
  },
  {
   "cell_type": "code",
   "execution_count": 11,
   "metadata": {},
   "outputs": [
    {
     "data": {
      "text/html": [
       "<div>\n",
       "<style scoped>\n",
       "    .dataframe tbody tr th:only-of-type {\n",
       "        vertical-align: middle;\n",
       "    }\n",
       "\n",
       "    .dataframe tbody tr th {\n",
       "        vertical-align: top;\n",
       "    }\n",
       "\n",
       "    .dataframe thead th {\n",
       "        text-align: right;\n",
       "    }\n",
       "</style>\n",
       "<table border=\"1\" class=\"dataframe\">\n",
       "  <thead>\n",
       "    <tr style=\"text-align: right;\">\n",
       "      <th></th>\n",
       "      <th>count</th>\n",
       "    </tr>\n",
       "  </thead>\n",
       "  <tbody>\n",
       "    <tr>\n",
       "      <td>Comment</td>\n",
       "      <td>13</td>\n",
       "    </tr>\n",
       "  </tbody>\n",
       "</table>\n",
       "</div>"
      ],
      "text/plain": [
       "        count\n",
       "Comment  13  "
      ]
     },
     "execution_count": 11,
     "metadata": {},
     "output_type": "execute_result"
    }
   ],
   "source": [
    "# combien de Comment 2015\n",
    "explore15.loc[['Comment'], ['count']]"
   ]
  },
  {
   "cell_type": "code",
   "execution_count": 12,
   "metadata": {},
   "outputs": [
    {
     "data": {
      "text/html": [
       "<div>\n",
       "<style scoped>\n",
       "    .dataframe tbody tr th:only-of-type {\n",
       "        vertical-align: middle;\n",
       "    }\n",
       "\n",
       "    .dataframe tbody tr th {\n",
       "        vertical-align: top;\n",
       "    }\n",
       "\n",
       "    .dataframe thead th {\n",
       "        text-align: right;\n",
       "    }\n",
       "</style>\n",
       "<table border=\"1\" class=\"dataframe\">\n",
       "  <thead>\n",
       "    <tr style=\"text-align: right;\">\n",
       "      <th></th>\n",
       "      <th>count</th>\n",
       "    </tr>\n",
       "  </thead>\n",
       "  <tbody>\n",
       "    <tr>\n",
       "      <td>Comments</td>\n",
       "      <td>0</td>\n",
       "    </tr>\n",
       "  </tbody>\n",
       "</table>\n",
       "</div>"
      ],
      "text/plain": [
       "         count\n",
       "Comments  0   "
      ]
     },
     "execution_count": 12,
     "metadata": {},
     "output_type": "execute_result"
    }
   ],
   "source": [
    "# combien de Comments 2016\n",
    "explore16.loc[['Comments'], ['count']]"
   ]
  },
  {
   "cell_type": "markdown",
   "metadata": {},
   "source": [
    "- après vérification que l'unité est bien la même : il faut aligner 2015 'GHGEmissions(MetricTonsCO2e)', 'GHGEmissionsIntensity(kgCO2e/ft2)' et 2016 'GHGEmissionsIntensity', 'TotalGHGEmissions'.\n",
    "- le cas de 2015 Comment et 2016 Comments est factultatif puisque 2016 Comments est vide."
   ]
  },
  {
   "cell_type": "code",
   "execution_count": 13,
   "metadata": {},
   "outputs": [],
   "source": [
    "# aligner les noms de colonnes GHGEmissions, dont les valeurs sont analogues\n",
    "dat15.rename(\n",
    "    columns={'GHGEmissions(MetricTonsCO2e)': 'TotalGHGEmissions',\n",
    "             'GHGEmissionsIntensity(kgCO2e/ft2)': 'GHGEmissionsIntensity',\n",
    "             'Comment': 'Comments'},\n",
    "    inplace=True)"
   ]
  },
  {
   "cell_type": "markdown",
   "metadata": {},
   "source": [
    "- décomposer le feature Location du relevé 2015 en features 2016 : 'Latitude','Longitude', puis 'Address', 'City',  'State', 'ZipCode'"
   ]
  },
  {
   "cell_type": "code",
   "execution_count": 14,
   "metadata": {
    "scrolled": true
   },
   "outputs": [
    {
     "name": "stdout",
     "output_type": "stream",
     "text": [
      "266    {'latitude': '47.62320708', 'longitude': '-122.32984117', 'human_address': '{\"address\": \"500 YALE AVE N\", \"city\": \"SEATTLE\", \"state\": \"WA\", \"zip\": \"98109\"}'}\n",
      "Name: Location, dtype: object\n"
     ]
    }
   ],
   "source": [
    "# composition du feature Location\n",
    "print(dat15['Location'].sample(1))"
   ]
  },
  {
   "cell_type": "markdown",
   "metadata": {},
   "source": [
    "- il s'agit d'un container {'a': 'x', 'b': 'y'}"
   ]
  },
  {
   "cell_type": "code",
   "execution_count": 15,
   "metadata": {},
   "outputs": [],
   "source": [
    "# décomposition en latitude / longitude / human_address\n",
    "# nb à l'aide de : from ast import literal_eval\n",
    "dat15['Location'] = dat15['Location'].apply(literal_eval)\n",
    "dat15['Latitude'] = dat15['Location'].apply(lambda x: x['latitude'])\n",
    "dat15['Longitude'] = dat15['Location'].apply(lambda x: x['longitude'])\n",
    "dat15['human_address'] = dat15['Location'].apply(lambda x: x['human_address'])\n",
    "\n",
    "# décomposition de human_address\n",
    "dat15['human_address'] = dat15['human_address'].apply(literal_eval)\n",
    "dat15['Address'] = dat15['human_address'].apply(lambda x: x[\"address\"])\n",
    "dat15['City'] = dat15['human_address'].apply(lambda x: x[\"city\"])\n",
    "dat15['State'] = dat15['human_address'].apply(lambda x: x[\"state\"])\n",
    "dat15['ZipCode'] = dat15['human_address'].apply(lambda x: x[\"zip\"])\n",
    "\n",
    "# retrait des 2 colonnes devenues inutiles\n",
    "dat15.drop(['Location', 'human_address'], axis=1, inplace=True)"
   ]
  },
  {
   "cell_type": "code",
   "execution_count": 16,
   "metadata": {},
   "outputs": [
    {
     "name": "stdout",
     "output_type": "stream",
     "text": [
      "liste des features 2015 absents du relevé 2016 : \n",
      "Index(['2010 Census Tracts', 'City Council Districts', 'OtherFuelUse(kBtu)',\n",
      "       'SPD Beats',\n",
      "       'Seattle Police Department Micro Community Policing Plan Areas',\n",
      "       'Zip Codes'],\n",
      "      dtype='object')\n",
      "liste des features 2016 absents du relevé 2015 : \n",
      "Index([], dtype='object')\n"
     ]
    }
   ],
   "source": [
    "# liste des features pour chaque relevé\n",
    "feat16 = dat16.columns\n",
    "feat15 = dat15.columns\n",
    "# features présents en 2015 mais pas en 2016 :\n",
    "print('liste des features 2015 absents du relevé 2016 : \\n'\n",
    "      + str(feat15.difference(feat16)))\n",
    "# features présents en 2016 mais pas en 2015 :\n",
    "print('liste des features 2016 absents du relevé 2015 : \\n'\n",
    "      + str(feat16.difference(feat15)))"
   ]
  },
  {
   "cell_type": "code",
   "execution_count": 17,
   "metadata": {},
   "outputs": [
    {
     "data": {
      "image/png": "[encoded data removed]",
      "text/plain": [
       "<Figure size 432x288 with 1 Axes>"
      ]
     },
     "metadata": {
      "needs_background": "light"
     },
     "output_type": "display_data"
    },
    {
     "name": "stdout",
     "output_type": "stream",
     "text": [
      "Il y a 6 pourcent(s) des données disponibles, soit 224 données\n"
     ]
    },
    {
     "data": {
      "image/png": "[encoded data removed]",
      "text/plain": [
       "<Figure size 432x288 with 1 Axes>"
      ]
     },
     "metadata": {
      "needs_background": "light"
     },
     "output_type": "display_data"
    },
    {
     "name": "stdout",
     "output_type": "stream",
     "text": [
      "Il y a 6 pourcent(s) des données disponibles, soit 213 données\n"
     ]
    },
    {
     "data": {
      "image/png": "[encoded data removed]",
      "text/plain": [
       "<Figure size 432x288 with 1 Axes>"
      ]
     },
     "metadata": {
      "needs_background": "light"
     },
     "output_type": "display_data"
    },
    {
     "name": "stdout",
     "output_type": "stream",
     "text": [
      "Il y a 99 pourcent(s) des données disponibles, soit 3330 données\n"
     ]
    },
    {
     "data": {
      "image/png": "[encoded data removed]",
      "text/plain": [
       "<Figure size 432x288 with 1 Axes>"
      ]
     },
     "metadata": {
      "needs_background": "light"
     },
     "output_type": "display_data"
    },
    {
     "name": "stdout",
     "output_type": "stream",
     "text": [
      "Il y a 99 pourcent(s) des données disponibles, soit 3338 données\n"
     ]
    },
    {
     "data": {
      "image/png": "[encoded data removed]",
      "text/plain": [
       "<Figure size 432x288 with 1 Axes>"
      ]
     },
     "metadata": {
      "needs_background": "light"
     },
     "output_type": "display_data"
    },
    {
     "name": "stdout",
     "output_type": "stream",
     "text": [
      "Il y a 99 pourcent(s) des données disponibles, soit 3338 données\n"
     ]
    },
    {
     "data": {
      "image/png": "[encoded data removed]",
      "text/plain": [
       "<Figure size 432x288 with 1 Axes>"
      ]
     },
     "metadata": {
      "needs_background": "light"
     },
     "output_type": "display_data"
    },
    {
     "name": "stdout",
     "output_type": "stream",
     "text": [
      "Il y a 100 pourcent(s) des données disponibles, soit 3340 données\n"
     ]
    }
   ],
   "source": [
    "# aperçu des valeurs des features présents en 2015 mais pas en 2016\n",
    "for i in feat15.difference(feat16):\n",
    "    sns.boxplot(data=dat15[i], whis=[1, 99], orient=\"h\")\n",
    "    plt.title('Distribution by %s - [1, 99]' % str(i))\n",
    "    plt.xlabel(i)\n",
    "    plt.ylabel('Buildings')\n",
    "    plt.show()\n",
    "    print('Il y a %d pourcent(s) des données disponibles, soit %d données' % (round(100*((dat15.shape[0]-dat15[i].isna().sum())/dat15.shape[0]), 2), (dat15.shape[0]-dat15[i].isna().sum())))"
   ]
  },
  {
   "cell_type": "markdown",
   "metadata": {},
   "source": [
    "Ces features présentent l'inconvénient de ne pas être disponibles pour le relevé 2016. Parmi eux : \n",
    "- Le feature 'Zip Codes' est désormais redondant du fait de la décomposition de 'Location'.\n",
    "- Les features '2010 Census Tracts', 'City Council Districts' sont des découpages territoriaux administratifs trop faiblement disponibles et donc non pertinents.\n",
    "- Les features 'SPD Beats' et 'Seattle Police Department Micro Community Policing Plan Areas' sont des découpages territoriaux relatifs aux forces de police, qu'on ne peut pas considérer comme plus pertinents en première approche par rapport aux autres découpages existants.\n",
    "- Le feature OtherFuelUse(kBtu) est une des composantes de l'énergie consommmée, très rarement inconnue, mais qu'il serait intéressant de caractériser."
   ]
  },
  {
   "cell_type": "code",
   "execution_count": 18,
   "metadata": {},
   "outputs": [],
   "source": [
    "# retirer les colonnes devenues inutiles\n",
    "dat15.drop(['Zip Codes', '2010 Census Tracts', 'City Council Districts', 'SPD Beats', 'Seattle Police Department Micro Community Policing Plan Areas'], axis=1, inplace=True)"
   ]
  },
  {
   "cell_type": "code",
   "execution_count": 19,
   "metadata": {},
   "outputs": [
    {
     "name": "stdout",
     "output_type": "stream",
     "text": [
      "il y a 27 bâtiments avec OtherFuelUse\n",
      "parmi lesquels il y a 10 bâtiments sans valeur pour SiteEUI(kBtu/sf)\n"
     ]
    }
   ],
   "source": [
    "# focus sur les quelques bâtiments ayant un 4ème type d'energie utilisé\n",
    "unusual = dat15[\n",
    "                dat15['OtherFuelUse(kBtu)'] != 0\n",
    "                ].sort_values(by=['OtherFuelUse(kBtu)'])\n",
    "print('il y a %i bâtiments avec OtherFuelUse' % unusual.shape[0])\n",
    "print('parmi lesquels il y a %i bâtiments sans valeur pour SiteEUI(kBtu/sf)'\n",
    "      % unusual['SiteEUI(kBtu/sf)'].isna().sum())"
   ]
  },
  {
   "cell_type": "code",
   "execution_count": 20,
   "metadata": {},
   "outputs": [],
   "source": [
    "# liste des bâtiments dont la valeur d'energy n'est pas disponible\n",
    "unexpected = unusual[unusual['SiteEUI(kBtu/sf)'].isna()]\n",
    "# éviction de ces bâtiments pour analyse la distribution\n",
    "unusualval = unusual[unusual['SiteEUI(kBtu/sf)'].notna()]"
   ]
  },
  {
   "cell_type": "code",
   "execution_count": 21,
   "metadata": {
    "scrolled": true
   },
   "outputs": [
    {
     "data": {
      "text/plain": [
       "count    3330.000000\n",
       "mean     53.626126  \n",
       "std      53.893311  \n",
       "min      0.000000   \n",
       "25%      27.300000  \n",
       "50%      37.400000  \n",
       "75%      59.875000  \n",
       "max      800.600000 \n",
       "Name: SiteEUI(kBtu/sf), dtype: float64"
      ]
     },
     "execution_count": 21,
     "metadata": {},
     "output_type": "execute_result"
    }
   ],
   "source": [
    "dat15['SiteEUI(kBtu/sf)'].describe()"
   ]
  },
  {
   "cell_type": "code",
   "execution_count": 22,
   "metadata": {
    "scrolled": false
   },
   "outputs": [
    {
     "data": {
      "text/plain": [
       "count    17.000000 \n",
       "mean     84.917647 \n",
       "std      92.837683 \n",
       "min      2.300000  \n",
       "25%      42.000000 \n",
       "50%      70.400000 \n",
       "75%      78.000000 \n",
       "max      420.400000\n",
       "Name: SiteEUI(kBtu/sf), dtype: float64"
      ]
     },
     "execution_count": 22,
     "metadata": {},
     "output_type": "execute_result"
    }
   ],
   "source": [
    "unusualval['SiteEUI(kBtu/sf)'].describe()"
   ]
  },
  {
   "cell_type": "markdown",
   "metadata": {},
   "source": [
    "Il s'agit donc de 17 bâtiments, dont la valeur d'intensité d'énergie est en moyenne plus élevée plus 10 bâtiments dont la valeur est manquante."
   ]
  },
  {
   "cell_type": "code",
   "execution_count": 23,
   "metadata": {},
   "outputs": [
    {
     "data": {
      "text/plain": [
       "1838    NaN                                                                                                                                                                                            \n",
       "1358    Under construction starting 6/2013 (old building demolished) and ending 9/2016. New Building re-opened 9/2016.  Year built changed from 1950 to 2016.                                          \n",
       "2381    Property now has two buildings: Thornton Creek Elementary School and the Decatur Building. New Thornton Creek Elementary built on Decatur Property and under construction from 6/2013 - 9/2016.\n",
       "62      Under construction starting 6/2013 (old building demolished) and ending 9/2016. New Building re-opened 9/2016. Year built changed from 1948 to 2016.                                           \n",
       "719     Construction completed in mid 2015. The building was unoccupied for most of 2015.                                                                                                              \n",
       "Name: Comments, dtype: object"
      ]
     },
     "execution_count": 23,
     "metadata": {},
     "output_type": "execute_result"
    }
   ],
   "source": [
    "# commentaires dans le cas de valeurs manquantes?\n",
    "unexpected['Comments'].sample(5)"
   ]
  },
  {
   "cell_type": "markdown",
   "metadata": {},
   "source": [
    "il semble qu'il s'agisse de batiments inoccupés ou en renovation, l'année de construction étant d'ailleurs à modifier selon les commentaires. "
   ]
  },
  {
   "cell_type": "code",
   "execution_count": 24,
   "metadata": {},
   "outputs": [
    {
     "name": "stdout",
     "output_type": "stream",
     "text": [
      "10\n",
      "27\n"
     ]
    }
   ],
   "source": [
    "# conserver les 2 listes\n",
    "unexpected_buildings = unexpected['OSEBuildingID']\n",
    "unusual_buildings = unusual['OSEBuildingID']\n",
    "print(unexpected_buildings.size)\n",
    "print(unusual_buildings.size)"
   ]
  },
  {
   "cell_type": "code",
   "execution_count": 25,
   "metadata": {
    "scrolled": false
   },
   "outputs": [
    {
     "data": {
      "text/plain": [
       "count    24.000000 \n",
       "mean     74.133333 \n",
       "std      77.688871 \n",
       "min      0.000000  \n",
       "25%      36.675001 \n",
       "50%      54.850000 \n",
       "75%      71.299999 \n",
       "max      389.100006\n",
       "Name: SiteEUI(kBtu/sf), dtype: float64"
      ]
     },
     "execution_count": 25,
     "metadata": {},
     "output_type": "execute_result"
    }
   ],
   "source": [
    "upunusual = dat16[dat16['OSEBuildingID'].isin(unusual_buildings)]\n",
    "upunusual.fillna(0)\n",
    "upunusual['SiteEUI(kBtu/sf)'].describe()"
   ]
  },
  {
   "cell_type": "code",
   "execution_count": 26,
   "metadata": {
    "scrolled": true
   },
   "outputs": [
    {
     "data": {
      "text/plain": [
       "count    8.000000  \n",
       "mean     46.075000 \n",
       "std      42.745149 \n",
       "min      0.000000  \n",
       "25%      27.800000 \n",
       "50%      34.300001 \n",
       "75%      47.500001 \n",
       "max      140.199997\n",
       "Name: SiteEUI(kBtu/sf), dtype: float64"
      ]
     },
     "execution_count": 26,
     "metadata": {},
     "output_type": "execute_result"
    }
   ],
   "source": [
    "upunexpected = dat16[dat16['OSEBuildingID'].isin(unexpected_buildings)]\n",
    "upunexpected['SiteEUI(kBtu/sf)'].describe()"
   ]
  },
  {
   "cell_type": "markdown",
   "metadata": {},
   "source": [
    "La plupart des données ont fait l'objet d'un relevé en 2016."
   ]
  },
  {
   "cell_type": "code",
   "execution_count": 27,
   "metadata": {
    "scrolled": true
   },
   "outputs": [],
   "source": [
    "# homogénéiser pour OtherFuelUse\n",
    "dat16['OtherFuelUse(kBtu)'] = 0"
   ]
  },
  {
   "cell_type": "markdown",
   "metadata": {},
   "source": [
    "- le feature OtherFuelUse(kBtu) pourrait satisfaire au critères de représentativité utile sur 2015 et imputable en valeurs nulle sur le relevé 2016. toutefois cela a peu de chances d'améliorer efficacement l'atteinte de l'objectif compte tenu des efforts que cela demande: à arbitrer lors de l'analyse des features de profils."
   ]
  },
  {
   "cell_type": "code",
   "execution_count": 28,
   "metadata": {},
   "outputs": [
    {
     "name": "stdout",
     "output_type": "stream",
     "text": [
      "liste des features 2015 absents du relevé 2016 : \n",
      "Index([], dtype='object')\n",
      "liste des features 2016 absents du relevé 2015 : \n",
      "Index([], dtype='object')\n"
     ]
    }
   ],
   "source": [
    "# on s'assure que les features sont bien désormais homogènes\n",
    "feat16 = dat16.columns\n",
    "feat15 = dat15.columns\n",
    "# features présents en 2015 mais pas en 2016 :\n",
    "print('liste des features 2015 absents du relevé 2016 : \\n'\n",
    "      + str(feat15.difference(feat16)))\n",
    "# features présents en 2016 mais pas en 2015 :\n",
    "print('liste des features 2016 absents du relevé 2015 : \\n'\n",
    "      + str(feat16.difference(feat15)))"
   ]
  },
  {
   "cell_type": "code",
   "execution_count": 29,
   "metadata": {
    "scrolled": true
   },
   "outputs": [
    {
     "name": "stdout",
     "output_type": "stream",
     "text": [
      "feature-s pouvant servir de clé primaire dans le relevé 2015 : \n",
      "['OSEBuildingID']\n",
      "feature-s pouvant servir de clé primaire dans le relevé 2016 : \n",
      "['OSEBuildingID']\n"
     ]
    }
   ],
   "source": [
    "# cle primaire candidate pour chaque relevé\n",
    "print('feature-s pouvant servir de clé primaire dans le relevé 2015 : ')\n",
    "print(str([i for i in feat15 if len(dat15[i].unique()) == len(dat15[i])]))\n",
    "print('feature-s pouvant servir de clé primaire dans le relevé 2016 : ')\n",
    "print(str([i for i in feat16 if len(dat16[i].unique()) == len(dat16[i])]))"
   ]
  },
  {
   "cell_type": "code",
   "execution_count": 30,
   "metadata": {},
   "outputs": [
    {
     "name": "stdout",
     "output_type": "stream",
     "text": [
      "pour 2015 le feature OSEBuildingID est trié de façon ascendante\n",
      "pour 2015 le feature DataYear est trié de façon ascendante\n",
      "pour 2015 le feature City est trié de façon ascendante\n",
      "pour 2015 le feature State est trié de façon ascendante\n",
      "pour 2016 le feature DataYear est trié de façon ascendante\n",
      "pour 2016 le feature City est trié de façon ascendante\n",
      "pour 2016 le feature State est trié de façon ascendante\n",
      "pour 2016 le feature OtherFuelUse(kBtu) est trié de façon ascendante\n"
     ]
    }
   ],
   "source": [
    "# par quel feature les données sont elles triées?\n",
    "for i in feat15:\n",
    "    if dat15[i].is_monotonic_increasing:\n",
    "        print('pour 2015 le feature %s est trié de façon ascendante' % i)\n",
    "for i in feat16:\n",
    "    if dat16[i].is_monotonic_increasing:\n",
    "        print('pour 2016 le feature %s est trié de façon ascendante' % i)"
   ]
  },
  {
   "cell_type": "code",
   "execution_count": 31,
   "metadata": {},
   "outputs": [
    {
     "name": "stdout",
     "output_type": "stream",
     "text": [
      "[2015]\n",
      "[2016]\n"
     ]
    }
   ],
   "source": [
    "# l'identification du relevé est elle correcte?\n",
    "print(dat15['DataYear'].unique())\n",
    "print(dat16['DataYear'].unique())"
   ]
  },
  {
   "cell_type": "markdown",
   "metadata": {},
   "source": [
    "## Intersection des relevés"
   ]
  },
  {
   "cell_type": "code",
   "execution_count": 32,
   "metadata": {},
   "outputs": [],
   "source": [
    "# ré-index par OSEBuilding\n",
    "dat15e = dat15.set_index('OSEBuildingID').copy()\n",
    "dat16e = dat16.set_index('OSEBuildingID').copy()"
   ]
  },
  {
   "cell_type": "code",
   "execution_count": 33,
   "metadata": {},
   "outputs": [],
   "source": [
    "# renommage des features avec suffixe date du relevé\n",
    "dat15e = dat15e.add_suffix('_15').copy()\n",
    "dat16e = dat16e.add_suffix('_16').copy()"
   ]
  },
  {
   "cell_type": "code",
   "execution_count": 34,
   "metadata": {},
   "outputs": [],
   "source": [
    "# on observe l'évolution d'un résultat majeur sur l'intersection des relevés\n",
    "date = dat15e.join(dat16e, how='inner')\n",
    "date.name = 'date'"
   ]
  },
  {
   "cell_type": "code",
   "execution_count": 35,
   "metadata": {},
   "outputs": [
    {
     "data": {
      "text/plain": [
       "(3284, 92)"
      ]
     },
     "execution_count": 35,
     "metadata": {},
     "output_type": "execute_result"
    }
   ],
   "source": [
    "date.shape"
   ]
  },
  {
   "cell_type": "code",
   "execution_count": 36,
   "metadata": {
    "scrolled": true
   },
   "outputs": [
    {
     "data": {
      "text/plain": [
       "<seaborn.axisgrid.JointGrid at 0x295d2e73988>"
      ]
     },
     "execution_count": 36,
     "metadata": {},
     "output_type": "execute_result"
    },
    {
     "data": {
      "image/png": "[encoded data removed]",
      "text/plain": [
       "<Figure size 432x432 with 3 Axes>"
      ]
     },
     "metadata": {
      "needs_background": "light"
     },
     "output_type": "display_data"
    }
   ],
   "source": [
    "sns.jointplot(date['SiteEUI(kBtu/sf)_15'],\n",
    "              date['SiteEUI(kBtu/sf)_16'],\n",
    "              data=date,\n",
    "              kind='reg')"
   ]
  },
  {
   "cell_type": "markdown",
   "metadata": {},
   "source": [
    "- on observe une légère variation à la hausse, et quelques valeurs qui ont bcp évolué. "
   ]
  },
  {
   "cell_type": "code",
   "execution_count": 37,
   "metadata": {
    "scrolled": true
   },
   "outputs": [
    {
     "data": {
      "text/plain": [
       "count    3275.000000\n",
       "mean     53.585344  \n",
       "std      53.225974  \n",
       "min      0.000000   \n",
       "25%      27.400000  \n",
       "50%      37.500000  \n",
       "75%      59.850000  \n",
       "max      800.600000 \n",
       "Name: SiteEUI(kBtu/sf)_15, dtype: float64"
      ]
     },
     "execution_count": 37,
     "metadata": {},
     "output_type": "execute_result"
    }
   ],
   "source": [
    "date['SiteEUI(kBtu/sf)_15'].describe()"
   ]
  },
  {
   "cell_type": "code",
   "execution_count": 38,
   "metadata": {
    "scrolled": true
   },
   "outputs": [
    {
     "data": {
      "text/plain": [
       "count    3278.000000\n",
       "mean     54.194814  \n",
       "std      54.077883  \n",
       "min      0.000000   \n",
       "25%      27.799999  \n",
       "50%      38.500000  \n",
       "75%      60.275000  \n",
       "max      707.299988 \n",
       "Name: SiteEUI(kBtu/sf)_16, dtype: float64"
      ]
     },
     "execution_count": 38,
     "metadata": {},
     "output_type": "execute_result"
    }
   ],
   "source": [
    "date['SiteEUI(kBtu/sf)_16'].describe()"
   ]
  },
  {
   "cell_type": "markdown",
   "metadata": {},
   "source": [
    "- est-ce le cas pour SiteEnergyUse?"
   ]
  },
  {
   "cell_type": "code",
   "execution_count": 39,
   "metadata": {},
   "outputs": [
    {
     "name": "stdout",
     "output_type": "stream",
     "text": [
      "(3270, 92)\n",
      "SiteEUI(kBtu/sf)_15\n",
      "SiteEUI(kBtu/sf)_16\n",
      "SiteEnergyUse(kBtu)_15\n",
      "SiteEnergyUse(kBtu)_16\n",
      "(3253, 92)\n"
     ]
    }
   ],
   "source": [
    "# retirer les valeurs manquantes puis des valeurs négatives ou nulles :\n",
    "cols = ['SiteEUI(kBtu/sf)_15',\n",
    "        'SiteEUI(kBtu/sf)_16',\n",
    "        'SiteEnergyUse(kBtu)_15',\n",
    "        'SiteEnergyUse(kBtu)_16']\n",
    "date.dropna(axis=0, how='any', subset=cols, inplace=True)\n",
    "print(date.shape)\n",
    "for i in cols:\n",
    "    print(i)\n",
    "    date = date[date[i] > 0]\n",
    "print(date.shape)"
   ]
  },
  {
   "cell_type": "code",
   "execution_count": 40,
   "metadata": {},
   "outputs": [
    {
     "data": {
      "text/plain": [
       "<seaborn.axisgrid.JointGrid at 0x295d361d208>"
      ]
     },
     "execution_count": 40,
     "metadata": {},
     "output_type": "execute_result"
    },
    {
     "data": {
      "image/png": "[encoded data removed]",
      "text/plain": [
       "<Figure size 432x432 with 3 Axes>"
      ]
     },
     "metadata": {
      "needs_background": "light"
     },
     "output_type": "display_data"
    }
   ],
   "source": [
    "# afficher les intensités d'énergie iso-bâtiment\n",
    "sns.jointplot(np.log(date['SiteEUI(kBtu/sf)_15']),\n",
    "              np.log(date['SiteEUI(kBtu/sf)_16']),\n",
    "              data=date,\n",
    "              kind='reg')"
   ]
  },
  {
   "cell_type": "code",
   "execution_count": 41,
   "metadata": {},
   "outputs": [
    {
     "data": {
      "text/plain": [
       "<seaborn.axisgrid.JointGrid at 0x295d351fe48>"
      ]
     },
     "execution_count": 41,
     "metadata": {},
     "output_type": "execute_result"
    },
    {
     "data": {
      "image/png": "[encoded data removed]",
      "text/plain": [
       "<Figure size 432x432 with 3 Axes>"
      ]
     },
     "metadata": {
      "needs_background": "light"
     },
     "output_type": "display_data"
    }
   ],
   "source": [
    "# afficher les totaux d'énergie iso-bâtiment\n",
    "sns.jointplot(np.log(date['SiteEnergyUse(kBtu)_15']),\n",
    "              np.log(date['SiteEnergyUse(kBtu)_16']),\n",
    "              data=date,\n",
    "              kind='reg')"
   ]
  },
  {
   "cell_type": "code",
   "execution_count": 42,
   "metadata": {
    "scrolled": true
   },
   "outputs": [
    {
     "data": {
      "text/plain": [
       "<seaborn.axisgrid.JointGrid at 0x295d33c7908>"
      ]
     },
     "execution_count": 42,
     "metadata": {},
     "output_type": "execute_result"
    },
    {
     "data": {
      "image/png": "[encoded data removed]",
      "text/plain": [
       "<Figure size 432x432 with 3 Axes>"
      ]
     },
     "metadata": {
      "needs_background": "light"
     },
     "output_type": "display_data"
    }
   ],
   "source": [
    "# afficher les surface des bâtiments\n",
    "sns.jointplot(date['PropertyGFABuilding(s)_15'],\n",
    "              date['PropertyGFABuilding(s)_16'],\n",
    "              data=date,\n",
    "              kind='reg')"
   ]
  },
  {
   "cell_type": "code",
   "execution_count": 43,
   "metadata": {},
   "outputs": [
    {
     "data": {
      "text/plain": [
       "<seaborn.axisgrid.JointGrid at 0x295d4fad888>"
      ]
     },
     "execution_count": 43,
     "metadata": {},
     "output_type": "execute_result"
    },
    {
     "data": {
      "image/png": "[encoded data removed]",
      "text/plain": [
       "<Figure size 432x432 with 3 Axes>"
      ]
     },
     "metadata": {
      "needs_background": "light"
     },
     "output_type": "display_data"
    }
   ],
   "source": [
    "# afficher l'énergie star score\n",
    "sns.jointplot(date['ENERGYSTARScore_15'],\n",
    "              date['ENERGYSTARScore_16'],\n",
    "              data=date,\n",
    "              kind='reg')"
   ]
  },
  {
   "cell_type": "code",
   "execution_count": 44,
   "metadata": {
    "scrolled": true
   },
   "outputs": [
    {
     "data": {
      "text/plain": [
       "count    2503.000000\n",
       "mean     67.752697  \n",
       "std      27.293296  \n",
       "min      1.000000   \n",
       "25%      51.000000  \n",
       "50%      76.000000  \n",
       "75%      90.000000  \n",
       "max      100.000000 \n",
       "Name: ENERGYSTARScore_15, dtype: float64"
      ]
     },
     "execution_count": 44,
     "metadata": {},
     "output_type": "execute_result"
    }
   ],
   "source": [
    "date['ENERGYSTARScore_15'].describe()"
   ]
  },
  {
   "cell_type": "code",
   "execution_count": 45,
   "metadata": {
    "scrolled": false
   },
   "outputs": [
    {
     "data": {
      "text/plain": [
       "count    2461.000000\n",
       "mean     67.667208  \n",
       "std      26.720310  \n",
       "min      1.000000   \n",
       "25%      53.000000  \n",
       "50%      75.000000  \n",
       "75%      89.000000  \n",
       "max      100.000000 \n",
       "Name: ENERGYSTARScore_16, dtype: float64"
      ]
     },
     "execution_count": 45,
     "metadata": {},
     "output_type": "execute_result"
    }
   ],
   "source": [
    "date['ENERGYSTARScore_16'].describe()"
   ]
  },
  {
   "cell_type": "code",
   "execution_count": 46,
   "metadata": {
    "scrolled": true
   },
   "outputs": [
    {
     "data": {
      "text/plain": [
       "<seaborn.axisgrid.JointGrid at 0x295d516ee48>"
      ]
     },
     "execution_count": 46,
     "metadata": {},
     "output_type": "execute_result"
    },
    {
     "data": {
      "image/png": "[encoded data removed]",
      "text/plain": [
       "<Figure size 432x432 with 3 Axes>"
      ]
     },
     "metadata": {
      "needs_background": "light"
     },
     "output_type": "display_data"
    }
   ],
   "source": [
    "# afficher la surface totale\n",
    "sns.jointplot(date['PropertyGFATotal_15'],\n",
    "              date['PropertyGFATotal_16'],\n",
    "              data=date,\n",
    "              kind='reg')"
   ]
  },
  {
   "cell_type": "code",
   "execution_count": 47,
   "metadata": {},
   "outputs": [
    {
     "data": {
      "text/plain": [
       "count    3.253000e+03\n",
       "mean     9.081996e+04\n",
       "std      1.485423e+05\n",
       "min      2.000000e+04\n",
       "25%      2.847000e+04\n",
       "50%      4.383200e+04\n",
       "75%      8.877400e+04\n",
       "max      2.200000e+06\n",
       "Name: PropertyGFATotal_15, dtype: float64"
      ]
     },
     "execution_count": 47,
     "metadata": {},
     "output_type": "execute_result"
    }
   ],
   "source": [
    "date['PropertyGFATotal_15'].describe()"
   ]
  },
  {
   "cell_type": "code",
   "execution_count": 48,
   "metadata": {},
   "outputs": [
    {
     "data": {
      "text/plain": [
       "count    3.253000e+03\n",
       "mean     9.106043e+04\n",
       "std      1.496881e+05\n",
       "min      1.630000e+04\n",
       "25%      2.846700e+04\n",
       "50%      4.379400e+04\n",
       "75%      8.910300e+04\n",
       "max      2.200000e+06\n",
       "Name: PropertyGFATotal_16, dtype: float64"
      ]
     },
     "execution_count": 48,
     "metadata": {},
     "output_type": "execute_result"
    }
   ],
   "source": [
    "date['PropertyGFATotal_16'].describe()"
   ]
  },
  {
   "cell_type": "code",
   "execution_count": 49,
   "metadata": {
    "scrolled": true
   },
   "outputs": [
    {
     "data": {
      "text/plain": [
       "<seaborn.axisgrid.JointGrid at 0x295d53bc848>"
      ]
     },
     "execution_count": 49,
     "metadata": {},
     "output_type": "execute_result"
    },
    {
     "data": {
      "image/png": "[encoded data removed]",
      "text/plain": [
       "<Figure size 432x432 with 3 Axes>"
      ]
     },
     "metadata": {
      "needs_background": "light"
     },
     "output_type": "display_data"
    }
   ],
   "source": [
    "# afficher la surface parking\n",
    "sns.jointplot(date['PropertyGFAParking_15'],\n",
    "              date['PropertyGFAParking_16'],\n",
    "              data=date,\n",
    "              kind='reg')"
   ]
  },
  {
   "cell_type": "code",
   "execution_count": 50,
   "metadata": {},
   "outputs": [
    {
     "data": {
      "text/plain": [
       "count    3253.000000  \n",
       "mean     11028.995081 \n",
       "std      34821.546432 \n",
       "min     -3.000000     \n",
       "25%      0.000000     \n",
       "50%      0.000000     \n",
       "75%      4414.000000  \n",
       "max      512608.000000\n",
       "Name: PropertyGFAParking_15, dtype: float64"
      ]
     },
     "execution_count": 50,
     "metadata": {},
     "output_type": "execute_result"
    }
   ],
   "source": [
    "date['PropertyGFAParking_15'].describe()"
   ]
  },
  {
   "cell_type": "code",
   "execution_count": 51,
   "metadata": {},
   "outputs": [
    {
     "data": {
      "text/plain": [
       "count    3253.000000  \n",
       "mean     7898.580387  \n",
       "std      32322.497022 \n",
       "min      0.000000     \n",
       "25%      0.000000     \n",
       "50%      0.000000     \n",
       "75%      0.000000     \n",
       "max      512608.000000\n",
       "Name: PropertyGFAParking_16, dtype: float64"
      ]
     },
     "execution_count": 51,
     "metadata": {},
     "output_type": "execute_result"
    }
   ],
   "source": [
    "date['PropertyGFAParking_16'].describe()"
   ]
  },
  {
   "cell_type": "markdown",
   "metadata": {},
   "source": [
    "- les surfaces de parking décomptées à part ont globalement diminué en 2016, c'est du à une prise en compte différente plutôt qu'une disparition des surfaces de parking. Soit le parking est pris à part, soit il est intégé dans les usages avec une surface spécifiée."
   ]
  },
  {
   "cell_type": "code",
   "execution_count": 52,
   "metadata": {
    "scrolled": true
   },
   "outputs": [
    {
     "data": {
      "image/png": "[encoded data removed]",
      "text/plain": [
       "<Figure size 432x432 with 3 Axes>"
      ]
     },
     "metadata": {},
     "output_type": "display_data"
    }
   ],
   "source": [
    "# afficher les années de construction\n",
    "with sns.axes_style('white'):\n",
    "    sns.jointplot(date['YearBuilt_15'], date['YearBuilt_16'], data=date, kind='reg')"
   ]
  },
  {
   "cell_type": "markdown",
   "metadata": {},
   "source": [
    "- on n'a donc pas de recul sur 2 ans de relevés pour identifier des \"vraies\" rénovations de bâtiments. \n",
    "\n",
    "- on décide de conserver dans un premier temps les doublons, au motif que le biais potentiel est moins dommageable que de réduire l'espace des données valides."
   ]
  },
  {
   "cell_type": "markdown",
   "metadata": {},
   "source": [
    "## Concaténation des relevés pour analyse\n"
   ]
  },
  {
   "cell_type": "code",
   "execution_count": 53,
   "metadata": {},
   "outputs": [
    {
     "name": "stdout",
     "output_type": "stream",
     "text": [
      "Nb de buildings après concaténation : 6716\n"
     ]
    }
   ],
   "source": [
    "# concaténer les relevés\n",
    "dat = pd.concat([dat15, dat16], sort=False).reset_index(drop=True)\n",
    "print('Nb de buildings après concaténation : ' + str(dat.shape[0]))"
   ]
  },
  {
   "cell_type": "code",
   "execution_count": 54,
   "metadata": {},
   "outputs": [
    {
     "data": {
      "text/html": [
       "<div>\n",
       "<style scoped>\n",
       "    .dataframe tbody tr th:only-of-type {\n",
       "        vertical-align: middle;\n",
       "    }\n",
       "\n",
       "    .dataframe tbody tr th {\n",
       "        vertical-align: top;\n",
       "    }\n",
       "\n",
       "    .dataframe thead th {\n",
       "        text-align: right;\n",
       "    }\n",
       "</style>\n",
       "<table border=\"1\" class=\"dataframe\">\n",
       "  <thead>\n",
       "    <tr style=\"text-align: right;\">\n",
       "      <th></th>\n",
       "      <th>OSEBuildingID</th>\n",
       "      <th>DataYear</th>\n",
       "      <th>BuildingType</th>\n",
       "      <th>PrimaryPropertyType</th>\n",
       "      <th>PropertyName</th>\n",
       "      <th>TaxParcelIdentificationNumber</th>\n",
       "      <th>CouncilDistrictCode</th>\n",
       "      <th>Neighborhood</th>\n",
       "      <th>YearBuilt</th>\n",
       "      <th>NumberofBuildings</th>\n",
       "      <th>NumberofFloors</th>\n",
       "      <th>PropertyGFATotal</th>\n",
       "      <th>PropertyGFAParking</th>\n",
       "      <th>PropertyGFABuilding(s)</th>\n",
       "      <th>ListOfAllPropertyUseTypes</th>\n",
       "      <th>LargestPropertyUseType</th>\n",
       "      <th>LargestPropertyUseTypeGFA</th>\n",
       "      <th>SecondLargestPropertyUseType</th>\n",
       "      <th>SecondLargestPropertyUseTypeGFA</th>\n",
       "      <th>ThirdLargestPropertyUseType</th>\n",
       "      <th>ThirdLargestPropertyUseTypeGFA</th>\n",
       "      <th>YearsENERGYSTARCertified</th>\n",
       "      <th>ENERGYSTARScore</th>\n",
       "      <th>SiteEUI(kBtu/sf)</th>\n",
       "      <th>SiteEUIWN(kBtu/sf)</th>\n",
       "      <th>SourceEUI(kBtu/sf)</th>\n",
       "      <th>SourceEUIWN(kBtu/sf)</th>\n",
       "      <th>SiteEnergyUse(kBtu)</th>\n",
       "      <th>SiteEnergyUseWN(kBtu)</th>\n",
       "      <th>SteamUse(kBtu)</th>\n",
       "      <th>Electricity(kWh)</th>\n",
       "      <th>Electricity(kBtu)</th>\n",
       "      <th>NaturalGas(therms)</th>\n",
       "      <th>NaturalGas(kBtu)</th>\n",
       "      <th>OtherFuelUse(kBtu)</th>\n",
       "      <th>TotalGHGEmissions</th>\n",
       "      <th>GHGEmissionsIntensity</th>\n",
       "      <th>DefaultData</th>\n",
       "      <th>Comments</th>\n",
       "      <th>ComplianceStatus</th>\n",
       "      <th>Outlier</th>\n",
       "      <th>Latitude</th>\n",
       "      <th>Longitude</th>\n",
       "      <th>Address</th>\n",
       "      <th>City</th>\n",
       "      <th>State</th>\n",
       "      <th>ZipCode</th>\n",
       "    </tr>\n",
       "  </thead>\n",
       "  <tbody>\n",
       "    <tr>\n",
       "      <td>6711</td>\n",
       "      <td>50222</td>\n",
       "      <td>2016</td>\n",
       "      <td>Nonresidential COS</td>\n",
       "      <td>Office</td>\n",
       "      <td>Horticulture building</td>\n",
       "      <td>1624049080</td>\n",
       "      <td>2</td>\n",
       "      <td>GREATER DUWAMISH</td>\n",
       "      <td>1990</td>\n",
       "      <td>1.0</td>\n",
       "      <td>1.0</td>\n",
       "      <td>12294</td>\n",
       "      <td>0</td>\n",
       "      <td>12294</td>\n",
       "      <td>Office</td>\n",
       "      <td>Office</td>\n",
       "      <td>12294.0</td>\n",
       "      <td>NaN</td>\n",
       "      <td>NaN</td>\n",
       "      <td>NaN</td>\n",
       "      <td>NaN</td>\n",
       "      <td>NaN</td>\n",
       "      <td>46.0</td>\n",
       "      <td>69.099998</td>\n",
       "      <td>76.699997</td>\n",
       "      <td>161.699997</td>\n",
       "      <td>176.100006</td>\n",
       "      <td>8.497457e+05</td>\n",
       "      <td>9.430032e+05</td>\n",
       "      <td>0.0</td>\n",
       "      <td>153655.0000</td>\n",
       "      <td>5.242709e+05</td>\n",
       "      <td>3254.750244</td>\n",
       "      <td>3.254750e+05</td>\n",
       "      <td>0.0</td>\n",
       "      <td>20.94</td>\n",
       "      <td>1.70</td>\n",
       "      <td>True</td>\n",
       "      <td>NaN</td>\n",
       "      <td>Error - Correct Default Data</td>\n",
       "      <td>NaN</td>\n",
       "      <td>47.5672</td>\n",
       "      <td>-122.312</td>\n",
       "      <td>1600 S Dakota St</td>\n",
       "      <td>Seattle</td>\n",
       "      <td>WA</td>\n",
       "      <td>NaN</td>\n",
       "    </tr>\n",
       "    <tr>\n",
       "      <td>6712</td>\n",
       "      <td>50223</td>\n",
       "      <td>2016</td>\n",
       "      <td>Nonresidential COS</td>\n",
       "      <td>Other</td>\n",
       "      <td>International district/Chinatown CC</td>\n",
       "      <td>3558300000</td>\n",
       "      <td>2</td>\n",
       "      <td>DOWNTOWN</td>\n",
       "      <td>2004</td>\n",
       "      <td>1.0</td>\n",
       "      <td>1.0</td>\n",
       "      <td>16000</td>\n",
       "      <td>0</td>\n",
       "      <td>16000</td>\n",
       "      <td>Other - Recreation</td>\n",
       "      <td>Other - Recreation</td>\n",
       "      <td>16000.0</td>\n",
       "      <td>NaN</td>\n",
       "      <td>NaN</td>\n",
       "      <td>NaN</td>\n",
       "      <td>NaN</td>\n",
       "      <td>NaN</td>\n",
       "      <td>NaN</td>\n",
       "      <td>59.400002</td>\n",
       "      <td>65.900002</td>\n",
       "      <td>114.199997</td>\n",
       "      <td>118.900001</td>\n",
       "      <td>9.502762e+05</td>\n",
       "      <td>1.053706e+06</td>\n",
       "      <td>0.0</td>\n",
       "      <td>116221.0000</td>\n",
       "      <td>3.965461e+05</td>\n",
       "      <td>5537.299805</td>\n",
       "      <td>5.537300e+05</td>\n",
       "      <td>0.0</td>\n",
       "      <td>32.17</td>\n",
       "      <td>2.01</td>\n",
       "      <td>False</td>\n",
       "      <td>NaN</td>\n",
       "      <td>Compliant</td>\n",
       "      <td>NaN</td>\n",
       "      <td>47.5962</td>\n",
       "      <td>-122.323</td>\n",
       "      <td>719 8th Ave S</td>\n",
       "      <td>Seattle</td>\n",
       "      <td>WA</td>\n",
       "      <td>NaN</td>\n",
       "    </tr>\n",
       "    <tr>\n",
       "      <td>6713</td>\n",
       "      <td>50224</td>\n",
       "      <td>2016</td>\n",
       "      <td>Nonresidential COS</td>\n",
       "      <td>Other</td>\n",
       "      <td>Queen Anne Pool</td>\n",
       "      <td>1794501150</td>\n",
       "      <td>7</td>\n",
       "      <td>MAGNOLIA / QUEEN ANNE</td>\n",
       "      <td>1974</td>\n",
       "      <td>1.0</td>\n",
       "      <td>1.0</td>\n",
       "      <td>13157</td>\n",
       "      <td>0</td>\n",
       "      <td>13157</td>\n",
       "      <td>Fitness Center/Health Club/Gym, Other - Recreation, Swimming Pool</td>\n",
       "      <td>Other - Recreation</td>\n",
       "      <td>7583.0</td>\n",
       "      <td>Fitness Center/Health Club/Gym</td>\n",
       "      <td>5574.0</td>\n",
       "      <td>Swimming Pool</td>\n",
       "      <td>0.0</td>\n",
       "      <td>NaN</td>\n",
       "      <td>NaN</td>\n",
       "      <td>438.200012</td>\n",
       "      <td>460.100006</td>\n",
       "      <td>744.799988</td>\n",
       "      <td>767.799988</td>\n",
       "      <td>5.765898e+06</td>\n",
       "      <td>6.053764e+06</td>\n",
       "      <td>0.0</td>\n",
       "      <td>525251.6875</td>\n",
       "      <td>1.792159e+06</td>\n",
       "      <td>39737.390630</td>\n",
       "      <td>3.973739e+06</td>\n",
       "      <td>0.0</td>\n",
       "      <td>223.54</td>\n",
       "      <td>16.99</td>\n",
       "      <td>False</td>\n",
       "      <td>NaN</td>\n",
       "      <td>Compliant</td>\n",
       "      <td>NaN</td>\n",
       "      <td>47.6364</td>\n",
       "      <td>-122.358</td>\n",
       "      <td>1920 1st Ave W</td>\n",
       "      <td>Seattle</td>\n",
       "      <td>WA</td>\n",
       "      <td>NaN</td>\n",
       "    </tr>\n",
       "    <tr>\n",
       "      <td>6714</td>\n",
       "      <td>50225</td>\n",
       "      <td>2016</td>\n",
       "      <td>Nonresidential COS</td>\n",
       "      <td>Mixed Use Property</td>\n",
       "      <td>South Park Community Center</td>\n",
       "      <td>7883603155</td>\n",
       "      <td>1</td>\n",
       "      <td>GREATER DUWAMISH</td>\n",
       "      <td>1989</td>\n",
       "      <td>1.0</td>\n",
       "      <td>1.0</td>\n",
       "      <td>14101</td>\n",
       "      <td>0</td>\n",
       "      <td>14101</td>\n",
       "      <td>Fitness Center/Health Club/Gym, Food Service, Office, Other - Recreation, Pre-school/Daycare</td>\n",
       "      <td>Other - Recreation</td>\n",
       "      <td>6601.0</td>\n",
       "      <td>Fitness Center/Health Club/Gym</td>\n",
       "      <td>6501.0</td>\n",
       "      <td>Pre-school/Daycare</td>\n",
       "      <td>484.0</td>\n",
       "      <td>NaN</td>\n",
       "      <td>NaN</td>\n",
       "      <td>51.000000</td>\n",
       "      <td>55.500000</td>\n",
       "      <td>105.300003</td>\n",
       "      <td>110.800003</td>\n",
       "      <td>7.194712e+05</td>\n",
       "      <td>7.828413e+05</td>\n",
       "      <td>0.0</td>\n",
       "      <td>102248.0000</td>\n",
       "      <td>3.488702e+05</td>\n",
       "      <td>3706.010010</td>\n",
       "      <td>3.706010e+05</td>\n",
       "      <td>0.0</td>\n",
       "      <td>22.11</td>\n",
       "      <td>1.57</td>\n",
       "      <td>False</td>\n",
       "      <td>NaN</td>\n",
       "      <td>Compliant</td>\n",
       "      <td>NaN</td>\n",
       "      <td>47.5283</td>\n",
       "      <td>-122.324</td>\n",
       "      <td>8319 8th Ave S</td>\n",
       "      <td>Seattle</td>\n",
       "      <td>WA</td>\n",
       "      <td>NaN</td>\n",
       "    </tr>\n",
       "    <tr>\n",
       "      <td>6715</td>\n",
       "      <td>50226</td>\n",
       "      <td>2016</td>\n",
       "      <td>Nonresidential COS</td>\n",
       "      <td>Mixed Use Property</td>\n",
       "      <td>Van Asselt Community Center</td>\n",
       "      <td>7857002030</td>\n",
       "      <td>2</td>\n",
       "      <td>GREATER DUWAMISH</td>\n",
       "      <td>1938</td>\n",
       "      <td>1.0</td>\n",
       "      <td>1.0</td>\n",
       "      <td>18258</td>\n",
       "      <td>0</td>\n",
       "      <td>18258</td>\n",
       "      <td>Fitness Center/Health Club/Gym, Food Service, Office, Other - Recreation, Pre-school/Daycare</td>\n",
       "      <td>Other - Recreation</td>\n",
       "      <td>8271.0</td>\n",
       "      <td>Fitness Center/Health Club/Gym</td>\n",
       "      <td>8000.0</td>\n",
       "      <td>Pre-school/Daycare</td>\n",
       "      <td>1108.0</td>\n",
       "      <td>NaN</td>\n",
       "      <td>NaN</td>\n",
       "      <td>63.099998</td>\n",
       "      <td>70.900002</td>\n",
       "      <td>115.800003</td>\n",
       "      <td>123.900001</td>\n",
       "      <td>1.152896e+06</td>\n",
       "      <td>1.293722e+06</td>\n",
       "      <td>0.0</td>\n",
       "      <td>126774.3984</td>\n",
       "      <td>4.325542e+05</td>\n",
       "      <td>7203.419922</td>\n",
       "      <td>7.203420e+05</td>\n",
       "      <td>0.0</td>\n",
       "      <td>41.27</td>\n",
       "      <td>2.26</td>\n",
       "      <td>False</td>\n",
       "      <td>NaN</td>\n",
       "      <td>Compliant</td>\n",
       "      <td>NaN</td>\n",
       "      <td>47.5394</td>\n",
       "      <td>-122.295</td>\n",
       "      <td>2820 S Myrtle St</td>\n",
       "      <td>Seattle</td>\n",
       "      <td>WA</td>\n",
       "      <td>NaN</td>\n",
       "    </tr>\n",
       "  </tbody>\n",
       "</table>\n",
       "</div>"
      ],
      "text/plain": [
       "      OSEBuildingID  DataYear        BuildingType PrimaryPropertyType  \\\n",
       "6711  50222          2016      Nonresidential COS  Office               \n",
       "6712  50223          2016      Nonresidential COS  Other                \n",
       "6713  50224          2016      Nonresidential COS  Other                \n",
       "6714  50225          2016      Nonresidential COS  Mixed Use Property   \n",
       "6715  50226          2016      Nonresidential COS  Mixed Use Property   \n",
       "\n",
       "                             PropertyName TaxParcelIdentificationNumber  \\\n",
       "6711  Horticulture building                1624049080                     \n",
       "6712  International district/Chinatown CC  3558300000                     \n",
       "6713  Queen Anne Pool                      1794501150                     \n",
       "6714  South Park Community Center          7883603155                     \n",
       "6715  Van Asselt Community Center          7857002030                     \n",
       "\n",
       "      CouncilDistrictCode           Neighborhood  YearBuilt  \\\n",
       "6711  2                    GREATER DUWAMISH       1990        \n",
       "6712  2                    DOWNTOWN               2004        \n",
       "6713  7                    MAGNOLIA / QUEEN ANNE  1974        \n",
       "6714  1                    GREATER DUWAMISH       1989        \n",
       "6715  2                    GREATER DUWAMISH       1938        \n",
       "\n",
       "      NumberofBuildings  NumberofFloors  PropertyGFATotal  PropertyGFAParking  \\\n",
       "6711  1.0                1.0             12294             0                    \n",
       "6712  1.0                1.0             16000             0                    \n",
       "6713  1.0                1.0             13157             0                    \n",
       "6714  1.0                1.0             14101             0                    \n",
       "6715  1.0                1.0             18258             0                    \n",
       "\n",
       "      PropertyGFABuilding(s)  \\\n",
       "6711  12294                    \n",
       "6712  16000                    \n",
       "6713  13157                    \n",
       "6714  14101                    \n",
       "6715  18258                    \n",
       "\n",
       "                                                                         ListOfAllPropertyUseTypes  \\\n",
       "6711  Office                                                                                         \n",
       "6712  Other - Recreation                                                                             \n",
       "6713  Fitness Center/Health Club/Gym, Other - Recreation, Swimming Pool                              \n",
       "6714  Fitness Center/Health Club/Gym, Food Service, Office, Other - Recreation, Pre-school/Daycare   \n",
       "6715  Fitness Center/Health Club/Gym, Food Service, Office, Other - Recreation, Pre-school/Daycare   \n",
       "\n",
       "     LargestPropertyUseType  LargestPropertyUseTypeGFA  \\\n",
       "6711  Office                 12294.0                     \n",
       "6712  Other - Recreation     16000.0                     \n",
       "6713  Other - Recreation     7583.0                      \n",
       "6714  Other - Recreation     6601.0                      \n",
       "6715  Other - Recreation     8271.0                      \n",
       "\n",
       "        SecondLargestPropertyUseType  SecondLargestPropertyUseTypeGFA  \\\n",
       "6711  NaN                            NaN                                \n",
       "6712  NaN                            NaN                                \n",
       "6713  Fitness Center/Health Club/Gym  5574.0                            \n",
       "6714  Fitness Center/Health Club/Gym  6501.0                            \n",
       "6715  Fitness Center/Health Club/Gym  8000.0                            \n",
       "\n",
       "     ThirdLargestPropertyUseType  ThirdLargestPropertyUseTypeGFA  \\\n",
       "6711  NaN                        NaN                               \n",
       "6712  NaN                        NaN                               \n",
       "6713  Swimming Pool               0.0                              \n",
       "6714  Pre-school/Daycare          484.0                            \n",
       "6715  Pre-school/Daycare          1108.0                           \n",
       "\n",
       "     YearsENERGYSTARCertified  ENERGYSTARScore  SiteEUI(kBtu/sf)  \\\n",
       "6711  NaN                      46.0             69.099998          \n",
       "6712  NaN                     NaN               59.400002          \n",
       "6713  NaN                     NaN               438.200012         \n",
       "6714  NaN                     NaN               51.000000          \n",
       "6715  NaN                     NaN               63.099998          \n",
       "\n",
       "      SiteEUIWN(kBtu/sf)  SourceEUI(kBtu/sf)  SourceEUIWN(kBtu/sf)  \\\n",
       "6711  76.699997           161.699997          176.100006             \n",
       "6712  65.900002           114.199997          118.900001             \n",
       "6713  460.100006          744.799988          767.799988             \n",
       "6714  55.500000           105.300003          110.800003             \n",
       "6715  70.900002           115.800003          123.900001             \n",
       "\n",
       "      SiteEnergyUse(kBtu)  SiteEnergyUseWN(kBtu)  SteamUse(kBtu)  \\\n",
       "6711  8.497457e+05         9.430032e+05           0.0              \n",
       "6712  9.502762e+05         1.053706e+06           0.0              \n",
       "6713  5.765898e+06         6.053764e+06           0.0              \n",
       "6714  7.194712e+05         7.828413e+05           0.0              \n",
       "6715  1.152896e+06         1.293722e+06           0.0              \n",
       "\n",
       "      Electricity(kWh)  Electricity(kBtu)  NaturalGas(therms)  \\\n",
       "6711  153655.0000       5.242709e+05       3254.750244          \n",
       "6712  116221.0000       3.965461e+05       5537.299805          \n",
       "6713  525251.6875       1.792159e+06       39737.390630         \n",
       "6714  102248.0000       3.488702e+05       3706.010010          \n",
       "6715  126774.3984       4.325542e+05       7203.419922          \n",
       "\n",
       "      NaturalGas(kBtu)  OtherFuelUse(kBtu)  TotalGHGEmissions  \\\n",
       "6711  3.254750e+05      0.0                 20.94               \n",
       "6712  5.537300e+05      0.0                 32.17               \n",
       "6713  3.973739e+06      0.0                 223.54              \n",
       "6714  3.706010e+05      0.0                 22.11               \n",
       "6715  7.203420e+05      0.0                 41.27               \n",
       "\n",
       "      GHGEmissionsIntensity DefaultData Comments  \\\n",
       "6711  1.70                   True        NaN       \n",
       "6712  2.01                   False       NaN       \n",
       "6713  16.99                  False       NaN       \n",
       "6714  1.57                   False       NaN       \n",
       "6715  2.26                   False       NaN       \n",
       "\n",
       "                  ComplianceStatus Outlier Latitude Longitude  \\\n",
       "6711  Error - Correct Default Data  NaN     47.5672 -122.312    \n",
       "6712  Compliant                     NaN     47.5962 -122.323    \n",
       "6713  Compliant                     NaN     47.6364 -122.358    \n",
       "6714  Compliant                     NaN     47.5283 -122.324    \n",
       "6715  Compliant                     NaN     47.5394 -122.295    \n",
       "\n",
       "               Address     City State ZipCode  \n",
       "6711  1600 S Dakota St  Seattle  WA    NaN     \n",
       "6712  719 8th Ave S     Seattle  WA    NaN     \n",
       "6713  1920 1st Ave W    Seattle  WA    NaN     \n",
       "6714  8319 8th Ave S    Seattle  WA    NaN     \n",
       "6715  2820 S Myrtle St  Seattle  WA    NaN     "
      ]
     },
     "execution_count": 54,
     "metadata": {},
     "output_type": "execute_result"
    }
   ],
   "source": [
    "dat.tail(5)"
   ]
  },
  {
   "cell_type": "code",
   "execution_count": 55,
   "metadata": {},
   "outputs": [
    {
     "name": "stdout",
     "output_type": "stream",
     "text": [
      "Doublons sur les ID de bâtiments : 3284\n",
      "Nb de dates de TaxParcelIdentificationNumber modifiées : 429\n",
      "Doublons sur les relevés par TaxParcelIdentificationNumber : 2986\n",
      "Nb de dates de construction modifiées : 69\n"
     ]
    }
   ],
   "source": [
    "# décompter les doublons d'OSEBuildingID\n",
    "print('Doublons sur les ID de bâtiments : '\n",
    "      + str(dat.duplicated(['OSEBuildingID']).sum()))\n",
    "# nombre de TaxParcelIdentificationNumber modifiés\n",
    "print('Nb de dates de TaxParcelIdentificationNumber modifiées : '\n",
    "      + str(dat.duplicated(['OSEBuildingID']).sum()\n",
    "            - dat.duplicated(['TaxParcelIdentificationNumber',\n",
    "                              'OSEBuildingID']).sum()))\n",
    "# doublons sur les relevés, par le TaxParcelIdentificationNumber\n",
    "print('Doublons sur les relevés par TaxParcelIdentificationNumber : '\n",
    "      + str(dat.duplicated(['TaxParcelIdentificationNumber']).sum()))\n",
    "# nb de date de construction modifiées (même TaxParcelIdentificationNumber)\n",
    "print('Nb de dates de construction modifiées : '\n",
    "      + str(dat.duplicated(['TaxParcelIdentificationNumber']).sum()\n",
    "            - dat.duplicated(['TaxParcelIdentificationNumber',\n",
    "                              'YearBuilt']).sum()))"
   ]
  },
  {
   "cell_type": "code",
   "execution_count": 56,
   "metadata": {},
   "outputs": [
    {
     "name": "stdout",
     "output_type": "stream",
     "text": [
      "il y a 56 buldings_in15not16\n",
      "il y a 92 buldings_in16not15\n"
     ]
    }
   ],
   "source": [
    "# isoler les bâtiments non communs aux 2 relevés :\n",
    "# dans 2015 mais pas 2016 :\n",
    "common = dat15.merge(dat16, on=['OSEBuildingID'], how='left', indicator=True)\n",
    "in15not16 = common[common['_merge'] == 'left_only'].copy()\n",
    "buldings_in15not16 = in15not16['OSEBuildingID']\n",
    "print('il y a %i buldings_in15not16' % buldings_in15not16.size)\n",
    "common = dat16.merge(dat15, on=['OSEBuildingID'], how='left', indicator=True)\n",
    "in16not15 = common[common['_merge'] == 'left_only'].copy()\n",
    "buldings_in16not15 = in16not15['OSEBuildingID']\n",
    "print('il y a %i buldings_in16not15' % buldings_in16not15.size)"
   ]
  },
  {
   "cell_type": "code",
   "execution_count": 57,
   "metadata": {},
   "outputs": [],
   "source": [
    "# conserver les bâtiments en écart dans les relevés, pour réemploi\n",
    "in15not16 = pd.DataFrame(buldings_in15not16)\n",
    "in16not15 = pd.DataFrame(buldings_in16not15)\n",
    "\n",
    "in15not16.to_csv('in15not16.csv')\n",
    "in16not15.to_csv('in16not15.csv')"
   ]
  },
  {
   "cell_type": "markdown",
   "metadata": {},
   "source": [
    "- les 56 bâtiments sans relevé pour 2016 sont ceux dont on pourrait tenter de prédire le résultat (modulo leur représentativité, notamment catégorie non résidentielle), dans l'objectif de compléter le relevés 2016.\n",
    "- les 92 bâtiments sans relevé pour 2015 sont ceux qu'on pourrait exploiter pour la validation finale des modèles de prédiction (modulo leur représentativité, notamment catégorie non résidentielle)"
   ]
  },
  {
   "cell_type": "markdown",
   "metadata": {},
   "source": [
    "- Il y a donc un dédoublement de relevés pour la majorité des BuilginsID, on pourrait envisager de ne concerver que les données qui diffèrent pour ne pas sur-apprendre de données trop similaires."
   ]
  },
  {
   "cell_type": "code",
   "execution_count": 58,
   "metadata": {},
   "outputs": [],
   "source": [
    "# initialiser les descriptions détaillées et ajout du type et du nb de nan\n",
    "explore = dat.describe(percentiles=[.01, .25, .5, .75, .99], include='all').T\n",
    "explore['dtype'] = dat.dtypes.T\n",
    "explore['NaN_sum'] = dat.isna().sum().T\n",
    "# sortie csv pour l'exploitation externe (ergonomie améliorée)\n",
    "explore.to_csv('explore.csv')"
   ]
  },
  {
   "cell_type": "markdown",
   "metadata": {},
   "source": [
    "## Restriction aux données valides"
   ]
  },
  {
   "cell_type": "markdown",
   "metadata": {},
   "source": [
    "### Données valides au sens métier"
   ]
  },
  {
   "cell_type": "markdown",
   "metadata": {},
   "source": [
    "Il s'agit de tenir compte des features que nous classons dans le type \"Data\" : les informations ajoutées au relevés.\n",
    "\n",
    "- ComplianceStatus <br/>\n",
    "- DefaultData <br/>\n",
    "- Outlier <br/>\n",
    "\n",
    "il faut conserver OSEBuildingID qui peut servir ultérieurement pour éliminer les doublons (avec DataYear : info prise dans les 2 relevés) et pour reprendre par sous-listes présentes uniquement dans l'un ou l'autre des relevés.<br/>\n",
    "\n",
    "- DataYear <br/>\n",
    "- OSEBuildingID <br/>\n"
   ]
  },
  {
   "cell_type": "code",
   "execution_count": 59,
   "metadata": {},
   "outputs": [
    {
     "data": {
      "text/plain": [
       "array(['Compliant', 'Not Compliant', 'Error - Correct Default Data',\n",
       "       'Missing Data', 'Non-Compliant'], dtype=object)"
      ]
     },
     "execution_count": 59,
     "metadata": {},
     "output_type": "execute_result"
    }
   ],
   "source": [
    "# identifier les cas de compliance\n",
    "dat['ComplianceStatus'].unique()"
   ]
  },
  {
   "cell_type": "code",
   "execution_count": 60,
   "metadata": {
    "scrolled": true
   },
   "outputs": [
    {
     "data": {
      "text/plain": [
       "Text(0.5, 1.02, 'Compliance')"
      ]
     },
     "execution_count": 60,
     "metadata": {},
     "output_type": "execute_result"
    },
    {
     "data": {
      "image/png": "[encoded data removed]",
      "text/plain": [
       "<Figure size 576x432 with 1 Axes>"
      ]
     },
     "metadata": {
      "needs_background": "light"
     },
     "output_type": "display_data"
    }
   ],
   "source": [
    "# dénombrer les cas de compliance\n",
    "dat['ComplianceStatus'].value_counts()[:5].plot(\n",
    "    kind='barh',\n",
    "    figsize=(8, 6)).invert_yaxis()\n",
    "plt.xlabel('Nb', labelpad=14)\n",
    "plt.ylabel('Compliance', labelpad=14)\n",
    "plt.title('Compliance', y=1.02)"
   ]
  },
  {
   "cell_type": "markdown",
   "metadata": {},
   "source": [
    "- on choisit de ne garder que les données Compliant"
   ]
  },
  {
   "cell_type": "code",
   "execution_count": 61,
   "metadata": {},
   "outputs": [
    {
     "data": {
      "text/plain": [
       "(6548, 47)"
      ]
     },
     "execution_count": 61,
     "metadata": {},
     "output_type": "execute_result"
    }
   ],
   "source": [
    "# retirer les données non compliant\n",
    "dat = dat[dat['ComplianceStatus'] == 'Compliant'].copy()\n",
    "dat.shape"
   ]
  },
  {
   "cell_type": "markdown",
   "metadata": {},
   "source": [
    "### cas de DefaultData : <br/>\n",
    "On apprend sur https://portfoliomanager.energystar.gov, \"Default values are derived from the sample population that was used to create each score\", ces valeurs par défaut sont donc issues de la totalité des relevés (au moment où on les exploite pour Seattle en 2015 et 2016).  "
   ]
  },
  {
   "cell_type": "code",
   "execution_count": 62,
   "metadata": {},
   "outputs": [
    {
     "data": {
      "text/plain": [
       "array(['No', 'Yes', nan, False], dtype=object)"
      ]
     },
     "execution_count": 62,
     "metadata": {},
     "output_type": "execute_result"
    }
   ],
   "source": [
    "# identifier les cas de valeur par défaut\n",
    "dat['DefaultData'].unique()"
   ]
  },
  {
   "cell_type": "code",
   "execution_count": 63,
   "metadata": {},
   "outputs": [
    {
     "data": {
      "text/plain": [
       "Text(0.5, 1.02, 'DefaultData')"
      ]
     },
     "execution_count": 63,
     "metadata": {},
     "output_type": "execute_result"
    },
    {
     "data": {
      "image/png": "[encoded data removed]",
      "text/plain": [
       "<Figure size 576x432 with 1 Axes>"
      ]
     },
     "metadata": {
      "needs_background": "light"
     },
     "output_type": "display_data"
    }
   ],
   "source": [
    "# dénombrer les cas de valeur par défaut\n",
    "dat['DefaultData'].value_counts()[:5].plot(\n",
    "    kind='barh',\n",
    "    figsize=(8, 6)).invert_yaxis()\n",
    "plt.xlabel('Nb', labelpad=14)\n",
    "plt.ylabel('DefaultData', labelpad=14)\n",
    "plt.title('DefaultData', y=1.02)"
   ]
  },
  {
   "cell_type": "code",
   "execution_count": 64,
   "metadata": {},
   "outputs": [
    {
     "data": {
      "text/plain": [
       "(548, 47)"
      ]
     },
     "execution_count": 64,
     "metadata": {},
     "output_type": "execute_result"
    }
   ],
   "source": [
    "# projeter le cas de valeurs par défaut\n",
    "Default = dat[dat['DefaultData'] == 'Yes']\n",
    "Default.shape"
   ]
  },
  {
   "cell_type": "code",
   "execution_count": 65,
   "metadata": {
    "scrolled": true
   },
   "outputs": [
    {
     "data": {
      "text/plain": [
       "count    543.000000\n",
       "mean     40.919153 \n",
       "std      25.513538 \n",
       "min      4.600000  \n",
       "25%      27.000000 \n",
       "50%      33.500000 \n",
       "75%      46.100000 \n",
       "max      215.800000\n",
       "Name: SiteEUI(kBtu/sf), dtype: float64"
      ]
     },
     "execution_count": 65,
     "metadata": {},
     "output_type": "execute_result"
    }
   ],
   "source": [
    "# profil des valeurs par défaut\n",
    "Default['SiteEUI(kBtu/sf)'].describe()"
   ]
  },
  {
   "cell_type": "markdown",
   "metadata": {},
   "source": [
    "- on choisit de ne conserver que les données ayant DefaultData No ou False, on pourra conserver pour une vérification les données Default."
   ]
  },
  {
   "cell_type": "code",
   "execution_count": 66,
   "metadata": {},
   "outputs": [],
   "source": [
    "# transformer en True / False dans les valeurs default\n",
    "def default(val):\n",
    "    if (val == \"No\"):\n",
    "        return False\n",
    "    elif (val == \"Yes\"):\n",
    "        return True\n",
    "    else:\n",
    "        return val\n",
    "\n",
    "\n",
    "dat['Select_Default'] = dat['DefaultData'].apply(default).astype(str)"
   ]
  },
  {
   "cell_type": "code",
   "execution_count": 67,
   "metadata": {},
   "outputs": [],
   "source": [
    "# retirer la colonne DefaultData devenue inutile\n",
    "dat.drop('DefaultData', axis=1, inplace=True)"
   ]
  },
  {
   "cell_type": "code",
   "execution_count": 68,
   "metadata": {
    "scrolled": true
   },
   "outputs": [
    {
     "data": {
      "text/plain": [
       "Text(0.5, 1.02, 'New Default Data')"
      ]
     },
     "execution_count": 68,
     "metadata": {},
     "output_type": "execute_result"
    },
    {
     "data": {
      "image/png": "[encoded data removed]",
      "text/plain": [
       "<Figure size 576x432 with 1 Axes>"
      ]
     },
     "metadata": {
      "needs_background": "light"
     },
     "output_type": "display_data"
    }
   ],
   "source": [
    "# dénombrer les cas de valeur par défaut\n",
    "dat['Select_Default'].value_counts().plot(\n",
    "    kind='barh',\n",
    "    figsize=(8, 6)).invert_yaxis()\n",
    "plt.xlabel('Nb', labelpad=14)\n",
    "plt.ylabel('Default', labelpad=14)\n",
    "plt.title('New Default Data', y=1.02)"
   ]
  },
  {
   "cell_type": "code",
   "execution_count": 69,
   "metadata": {
    "scrolled": true
   },
   "outputs": [
    {
     "data": {
      "image/png": "[encoded data removed]",
      "text/plain": [
       "<Figure size 576x288 with 1 Axes>"
      ]
     },
     "metadata": {
      "needs_background": "light"
     },
     "output_type": "display_data"
    }
   ],
   "source": [
    "# visualiser la différence de distribution en intensité d'énergie\n",
    "ax = sns.catplot(x='Select_Default',\n",
    "                 y='SiteEUI(kBtu/sf)',\n",
    "                 kind=\"violin\",\n",
    "                 inner=None,\n",
    "                 data=dat,\n",
    "                 height=4,\n",
    "                 aspect=8/4)\n",
    "plt.xticks(rotation=0)\n",
    "plt.show()"
   ]
  },
  {
   "cell_type": "markdown",
   "metadata": {},
   "source": [
    "- le fait d'avoir des valeurs par défaut dans les relevés a pour effet de retirer des valeurs au delà du dernier quartile, c'est équivalent à un traitement High Outliers."
   ]
  },
  {
   "cell_type": "markdown",
   "metadata": {},
   "source": [
    "### \"Outliers\" au sens des relevés"
   ]
  },
  {
   "cell_type": "code",
   "execution_count": 70,
   "metadata": {},
   "outputs": [
    {
     "data": {
      "text/plain": [
       "array([nan, 'High Outlier', 'Low Outlier'], dtype=object)"
      ]
     },
     "execution_count": 70,
     "metadata": {},
     "output_type": "execute_result"
    }
   ],
   "source": [
    "# identifier les cas d'Outlier\n",
    "dat['Outlier'].unique()"
   ]
  },
  {
   "cell_type": "code",
   "execution_count": 71,
   "metadata": {},
   "outputs": [],
   "source": [
    "# rationaliser les valeurs\n",
    "dat['Select_Outlier'] = dat[['Outlier']].apply(lambda col: col.str.lower())  # devenu inutile suite aux restrictions de validité"
   ]
  },
  {
   "cell_type": "code",
   "execution_count": 72,
   "metadata": {},
   "outputs": [
    {
     "data": {
      "text/plain": [
       "Text(0.5, 1.02, 'Outlier')"
      ]
     },
     "execution_count": 72,
     "metadata": {},
     "output_type": "execute_result"
    },
    {
     "data": {
      "image/png": "[encoded data removed]",
      "text/plain": [
       "<Figure size 576x432 with 1 Axes>"
      ]
     },
     "metadata": {
      "needs_background": "light"
     },
     "output_type": "display_data"
    }
   ],
   "source": [
    "# dénombrer les cas d'outliers\n",
    "dat['Select_Outlier'].value_counts()[:4].plot(\n",
    "    kind='barh',\n",
    "    figsize=(8, 6)).invert_yaxis()\n",
    "plt.xlabel('Nb', labelpad=14)\n",
    "plt.ylabel('Outlier', labelpad=14)\n",
    "plt.title('Outlier', y=1.02)"
   ]
  },
  {
   "cell_type": "code",
   "execution_count": 73,
   "metadata": {},
   "outputs": [
    {
     "data": {
      "image/png": "[encoded data removed]",
      "text/plain": [
       "<Figure size 576x288 with 1 Axes>"
      ]
     },
     "metadata": {
      "needs_background": "light"
     },
     "output_type": "display_data"
    }
   ],
   "source": [
    "# visualiser la différence de distribution en intensité d'énergie\n",
    "ax = sns.catplot(x='Select_Outlier',\n",
    "                 y='SiteEUI(kBtu/sf)',\n",
    "                 kind=\"violin\",\n",
    "                 inner=None,\n",
    "                 data=dat,\n",
    "                 height=4,\n",
    "                 aspect=8/4)\n",
    "plt.xticks(rotation=0)\n",
    "plt.show()"
   ]
  },
  {
   "cell_type": "code",
   "execution_count": 74,
   "metadata": {
    "scrolled": false
   },
   "outputs": [],
   "source": [
    "# isoler les low et high outliers\n",
    "Lout = dat[dat['Select_Outlier'] == 'low outlier']\n",
    "Hout = dat[dat['Select_Outlier'] == 'high outlier']"
   ]
  },
  {
   "cell_type": "code",
   "execution_count": 75,
   "metadata": {},
   "outputs": [
    {
     "data": {
      "image/png": "[encoded data removed]",
      "text/plain": [
       "<Figure size 432x288 with 1 Axes>"
      ]
     },
     "metadata": {},
     "output_type": "display_data"
    }
   ],
   "source": [
    "# superposer les outliers dans la distribution de SiteEUI(kBtu/sf)\n",
    "sns.set_style(\"whitegrid\")\n",
    "ax = sns.boxplot(x='SiteEUI(kBtu/sf)', data=dat, whis=[25, 75], orient=\"h\")\n",
    "ax = sns.stripplot(x='SiteEUI(kBtu/sf)', data=Lout, orient='h', color='red')\n",
    "ax = sns.stripplot(x='SiteEUI(kBtu/sf)', data=Hout, orient='h', color='red')\n",
    "plt.title('Distribution by SiteEUI(kBtu/sf) - [25, 75]')\n",
    "plt.xlabel('SiteEUI(kBtu/sf)')\n",
    "plt.ylabel('Buildings')\n",
    "plt.show()"
   ]
  },
  {
   "cell_type": "markdown",
   "metadata": {},
   "source": [
    "- les outliers tels que déclarés dans le relevés sont hors quartile mais pas hors percentile.\n",
    "- on conserve donc ces items quitte à recalculer plus statistiquement leur valeurs pour garder/retirer les outliers."
   ]
  },
  {
   "cell_type": "markdown",
   "metadata": {},
   "source": [
    "- On pourrait également exploiter ce feature pour l'augmenter des outliers détectés au fil des observations. Cela permettrait alors d'observer l'influence de la prise en compte ou retrait des outliers sur la modélisation."
   ]
  },
  {
   "cell_type": "code",
   "execution_count": 76,
   "metadata": {},
   "outputs": [
    {
     "data": {
      "text/plain": [
       "(6539, 48)"
      ]
     },
     "execution_count": 76,
     "metadata": {},
     "output_type": "execute_result"
    }
   ],
   "source": [
    "# retirer les valeurs manquantes ou nulles du feature 'SiteEUI(kBtu/sf)'\n",
    "dat = dat[dat['SiteEUI(kBtu/sf)'] != 0].copy()\n",
    "dat = dat[~dat['SiteEUI(kBtu/sf)'].isna()].copy()\n",
    "dat.shape"
   ]
  },
  {
   "cell_type": "code",
   "execution_count": 77,
   "metadata": {},
   "outputs": [
    {
     "name": "stdout",
     "output_type": "stream",
     "text": [
      "il y a 0 valeurs nulles pour SiteEUI(kBtu/sf)\n",
      "il y a 0 valeurs manquantes pour SiteEUI(kBtu/sf)\n"
     ]
    },
    {
     "name": "stderr",
     "output_type": "stream",
     "text": [
      "1:73: W291 trailing whitespace\n"
     ]
    }
   ],
   "source": [
    "# identifier les valeurs nulles et manquantes pour l'intensité d'énergie \n",
    "print('il y a %i valeurs nulles pour SiteEUI(kBtu/sf)'\n",
    "      % len(dat.index[(dat['SiteEUI(kBtu/sf)'] == 0)]))\n",
    "print('il y a %i valeurs manquantes pour SiteEUI(kBtu/sf)'\n",
    "      % dat['SiteEUI(kBtu/sf)'].isna().sum())"
   ]
  },
  {
   "cell_type": "code",
   "execution_count": 78,
   "metadata": {},
   "outputs": [],
   "source": [
    "# créer un csv pour continuation\n",
    "dat.to_csv('dat1.csv', index=False)"
   ]
  },
  {
   "cell_type": "markdown",
   "metadata": {},
   "source": [
    "- on n'a plus de feature susceptible de constituer une clé primaire pour le dataset. "
   ]
  }
 ],
 "metadata": {
  "kernelspec": {
   "display_name": "Python 3",
   "language": "python",
   "name": "python3"
  },
  "language_info": {
   "codemirror_mode": {
    "name": "ipython",
    "version": 3
   },
   "file_extension": ".py",
   "mimetype": "text/x-python",
   "name": "python",
   "nbconvert_exporter": "python",
   "pygments_lexer": "ipython3",
   "version": "3.7.4"
  }
 },
 "nbformat": 4,
 "nbformat_minor": 2
}
