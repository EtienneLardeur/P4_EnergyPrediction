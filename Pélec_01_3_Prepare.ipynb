{
 "cells": [
  {
   "cell_type": "markdown",
   "metadata": {},
   "source": [
    "Notebook 3 - Prepare :\n",
    "Après avoir exploré et nettoyé le dataset, nous allons effectuer des étapes de préparation par transformation des features en vue d'obtenir des performances optimales. \n",
    "Nous pouvons aussi appliquer la restriction des relevés aux bâtiments \"non destinés à l'habitation\", ainsi que ceux pour lesquels un relevé existe en 2015 mais pas en 2016 et inversement."
   ]
  },
  {
   "cell_type": "code",
   "execution_count": 1,
   "metadata": {},
   "outputs": [],
   "source": [
    "%load_ext pycodestyle_magic\n",
    "%flake8_on"
   ]
  },
  {
   "cell_type": "markdown",
   "metadata": {},
   "source": [
    "- importer les packages"
   ]
  },
  {
   "cell_type": "code",
   "execution_count": 2,
   "metadata": {},
   "outputs": [],
   "source": [
    "import pandas as pd\n",
    "import numpy as np\n",
    "import matplotlib.pyplot as plt\n",
    "import seaborn as sns\n",
    "from sklearn.preprocessing import QuantileTransformer\n",
    "# %matplotlib inline\n",
    "# Pour afficher tout le contenu d'une valeur\n",
    "pd.set_option('display.max_colwidth', -1)\n",
    "# Pour afficher toutes les colonnes\n",
    "pd.options.display.max_columns = 100"
   ]
  },
  {
   "cell_type": "code",
   "execution_count": 3,
   "metadata": {},
   "outputs": [],
   "source": [
    "# récupérer les données\n",
    "raw = pd.read_csv('dat3.csv')\n",
    "buldings_in15not16 = pd.read_csv('in15not16.csv')\n",
    "buldings_in16not15 = pd.read_csv('in16not15.csv')"
   ]
  },
  {
   "cell_type": "code",
   "execution_count": 4,
   "metadata": {},
   "outputs": [
    {
     "name": "stdout",
     "output_type": "stream",
     "text": [
      "(6337, 42)\n",
      "(56, 2)\n",
      "(92, 2)\n"
     ]
    }
   ],
   "source": [
    "# contrôler la taille des données\n",
    "print(raw.shape)\n",
    "print(buldings_in15not16.shape)\n",
    "print(buldings_in16not15.shape)"
   ]
  },
  {
   "cell_type": "code",
   "execution_count": 5,
   "metadata": {},
   "outputs": [],
   "source": [
    "# créer un jeu de données validation\n",
    "valid1 = raw[raw['OSEBuildingID'].isin(buldings_in16not15['OSEBuildingID'])]\n",
    "valid2 = raw[raw['OSEBuildingID'].isin(buldings_in15not16['OSEBuildingID'])] "
   ]
  },
  {
   "cell_type": "code",
   "execution_count": 6,
   "metadata": {},
   "outputs": [
    {
     "name": "stdout",
     "output_type": "stream",
     "text": [
      "(79, 42)\n",
      "(39, 42)\n",
      "Nb de buildings après concaténation : 118\n"
     ]
    }
   ],
   "source": [
    "# contrôler la taille des données de validation\n",
    "print(valid1.shape)\n",
    "print(valid2.shape)\n",
    "valid = pd.concat([valid1, valid2], sort=False).reset_index(drop=True)\n",
    "print('Nb de buildings après concaténation : ' + str(valid.shape[0]))"
   ]
  },
  {
   "cell_type": "markdown",
   "metadata": {},
   "source": [
    "## Catégorisation des features (avant traitement)"
   ]
  },
  {
   "cell_type": "code",
   "execution_count": 7,
   "metadata": {
    "scrolled": true
   },
   "outputs": [
    {
     "name": "stdout",
     "output_type": "stream",
     "text": [
      "42\n"
     ]
    },
    {
     "data": {
      "text/plain": [
       "Index(['OSEBuildingID', 'DataYear', 'BuildingType', 'CouncilDistrictCode',\n",
       "       'Neighborhood', 'YearBuilt', 'NumberofBuildings', 'NumberofFloors',\n",
       "       'PropertyGFATotal', 'PropertyGFAParking', 'PropertyGFABuilding(s)',\n",
       "       'LargestPropertyUseType', 'LargestPropertyUseTypeGFA',\n",
       "       'SecondLargestPropertyUseType', 'SecondLargestPropertyUseTypeGFA',\n",
       "       'ThirdLargestPropertyUseType', 'ThirdLargestPropertyUseTypeGFA',\n",
       "       'ENERGYSTARScore', 'SiteEUI(kBtu/sf)', 'SiteEnergyUse(kBtu)',\n",
       "       'TotalGHGEmissions', 'GHGEmissionsIntensity', 'Latitude', 'Longitude',\n",
       "       'Select_Default', 'Select_Outlier', 'N_D_hasNaturalGas', 'N_D_hasSteam',\n",
       "       'N_D_BuildingType', 'N_PrimaryPropertyType', 'N_D_NbPropUseRange',\n",
       "       'N_AddUseType', 'N_PercentGFAParking', 'N_PercentGFABuilding',\n",
       "       'N_TotUseGFA', 'LargestProp', 'SecLargestProp', 'ThirdLargestProp',\n",
       "       'OtherPropertyUseTypeGFA', 'N_BuildingAge', 'N_D_NbofBuildingsRange',\n",
       "       'N_D_NbofFloorsRange'],\n",
       "      dtype='object')"
      ]
     },
     "execution_count": 7,
     "metadata": {},
     "output_type": "execute_result"
    }
   ],
   "source": [
    "# lister les features disponibles\n",
    "print(raw.columns.size)\n",
    "raw.columns"
   ]
  },
  {
   "cell_type": "code",
   "execution_count": 8,
   "metadata": {},
   "outputs": [],
   "source": [
    "# les features d'identification / tri des données : 4\n",
    "Select_features = ['OSEBuildingID',\n",
    "                   'DataYear',\n",
    "                   'Select_Default',\n",
    "                   'Select_Outlier']"
   ]
  },
  {
   "cell_type": "code",
   "execution_count": 9,
   "metadata": {},
   "outputs": [],
   "source": [
    "# les features de proportion de surfaces - non utilisés : 4\n",
    "Un_Surf_features = ['LargestProp',\n",
    "                    'SecLargestProp',\n",
    "                    'ThirdLargestProp',\n",
    "                    'OtherPropertyUseTypeGFA']"
   ]
  },
  {
   "cell_type": "code",
   "execution_count": 10,
   "metadata": {},
   "outputs": [
    {
     "data": {
      "text/plain": [
       "11"
      ]
     },
     "execution_count": 10,
     "metadata": {},
     "output_type": "execute_result"
    }
   ],
   "source": [
    "# les features bruts exploitables pour une régression : 11\n",
    "Raw_features = ['YearBuilt',\n",
    "                'NumberofBuildings',\n",
    "                'NumberofFloors',\n",
    "                'PropertyGFATotal',\n",
    "                'PropertyGFAParking',\n",
    "                'PropertyGFABuilding(s)',\n",
    "                'LargestPropertyUseTypeGFA',\n",
    "                'SecondLargestPropertyUseTypeGFA',\n",
    "                'ThirdLargestPropertyUseTypeGFA',\n",
    "                'Latitude',\n",
    "                'Longitude']\n",
    "len(Raw_features)"
   ]
  },
  {
   "cell_type": "code",
   "execution_count": 11,
   "metadata": {},
   "outputs": [],
   "source": [
    "# les features bruts inexploitables pour une regression : 3\n",
    "Un_Raw_features = ['LargestPropertyUseType',\n",
    "                   'SecondLargestPropertyUseType',\n",
    "                   'ThirdLargestPropertyUseType']"
   ]
  },
  {
   "cell_type": "code",
   "execution_count": 12,
   "metadata": {},
   "outputs": [],
   "source": [
    "# les features dérivés à traiter retenu : 1, non retenu : 4\n",
    "NTreat_features = ['N_BuildingAge']\n",
    "Un_NTreat_features = ['N_PercentGFAParking',\n",
    "                      'N_PercentGFABuilding',\n",
    "                      'N_TotUseGFA',\n",
    "                      'N_AddUseType']"
   ]
  },
  {
   "cell_type": "code",
   "execution_count": 13,
   "metadata": {},
   "outputs": [],
   "source": [
    "# features dérivés pseudo numériques déjà viables : 6\n",
    "N_D_features = ['N_D_hasNaturalGas',\n",
    "                'N_D_hasSteam',\n",
    "                'N_D_NbPropUseRange',\n",
    "                'N_D_NbofBuildingsRange',\n",
    "                'N_D_NbofFloorsRange',\n",
    "                'N_D_BuildingType']"
   ]
  },
  {
   "cell_type": "code",
   "execution_count": 14,
   "metadata": {},
   "outputs": [],
   "source": [
    "# features catégoriels retenus pour One hot encoding : 4\n",
    "OH_Features = ['BuildingType',\n",
    "               'CouncilDistrictCode',\n",
    "               'Neighborhood',\n",
    "               'N_PrimaryPropertyType']"
   ]
  },
  {
   "cell_type": "code",
   "execution_count": 15,
   "metadata": {},
   "outputs": [],
   "source": [
    "# features de résultats : 4\n",
    "Results = ['SiteEUI(kBtu/sf)',\n",
    "           'SiteEnergyUse(kBtu)',\n",
    "           'TotalGHGEmissions',\n",
    "           'GHGEmissionsIntensity']"
   ]
  },
  {
   "cell_type": "code",
   "execution_count": 16,
   "metadata": {},
   "outputs": [
    {
     "name": "stdout",
     "output_type": "stream",
     "text": [
      "valeurs <= 0 de SiteEUI(kBtu/sf) : (0, 42)\n",
      "valeurs <= 0 de SiteEnergyUse(kBtu) : (0, 42)\n",
      "valeurs <= 0 de TotalGHGEmissions : (0, 42)\n",
      "valeurs <= 0 de GHGEmissionsIntensity : (0, 42)\n"
     ]
    }
   ],
   "source": [
    "# contrôler l'absence de de données cibles négatives ou nulles\n",
    "for i in Results:\n",
    "    print('valeurs <= 0 de ' + str(i) + ' : ' + str(raw[raw[i] <= 0].shape))"
   ]
  },
  {
   "cell_type": "code",
   "execution_count": 17,
   "metadata": {},
   "outputs": [
    {
     "name": "stdout",
     "output_type": "stream",
     "text": [
      "nb de valeurs inconues pour ESS : 1524\n"
     ]
    }
   ],
   "source": [
    "# indiquer le nombre de Buildings sans ES Score\n",
    "print('nb de valeurs inconues pour ESS : ' + str(raw['ENERGYSTARScore'].isna().sum()))"
   ]
  },
  {
   "cell_type": "markdown",
   "metadata": {},
   "source": [
    "# Préparation"
   ]
  },
  {
   "cell_type": "code",
   "execution_count": 18,
   "metadata": {},
   "outputs": [],
   "source": [
    "# copier les données\n",
    "prep = raw.copy()"
   ]
  },
  {
   "cell_type": "code",
   "execution_count": 19,
   "metadata": {},
   "outputs": [],
   "source": [
    "# fonction de one-hot encoding pour les données catégorielles\n",
    "\n",
    "\n",
    "def onehot(data, feature):\n",
    "    # transforme en binaire les catégories\n",
    "    temp_df = pd.get_dummies(data[feature])\n",
    "    # préfixe le nouveau feature\n",
    "    temp_df = temp_df.add_prefix('N_OH_' + feature + '_')\n",
    "    # ajoute le nouveau feature\n",
    "    data = pd.concat([data, temp_df], axis=1)\n",
    "    # retire le feature dans sa version d'origine\n",
    "    data.drop(feature, axis=1, inplace=True)\n",
    "    # retourne le nouveau dataframe\n",
    "    return data\n",
    "\n"
   ]
  },
  {
   "cell_type": "code",
   "execution_count": 20,
   "metadata": {},
   "outputs": [
    {
     "name": "stderr",
     "output_type": "stream",
     "text": [
      "2:80: E501 line too long (82 > 79 characters)\n"
     ]
    }
   ],
   "source": [
    "# fonction de one-hot encoding spéciale :\n",
    "# ranger la proportion de surface de chaque UseType selon une surface de référence\n",
    "# paramètres : {data, feature, featureGFA, pref, ref}\n",
    "# pref=valeur du préfixe L_ S_ ou T_\n",
    "# ref=feature de surface pris pour référence\n",
    "# 3 candidats pour la surface de référence :\n",
    "# - 'PropertyGFABuilding(s)' (used to compute EUI)\n",
    "# - 'PropertyGFATotal' (Parking + Building(s))\n",
    "# - 'N_TotUseGFA' (somme des surfaces des 3 UseTypes)\n",
    "\n",
    "\n",
    "def onehotspecial(data, feature, featureGFA, pref, ref):\n",
    "    # transforme en binaire les catégories du feature\n",
    "    temp_df = pd.get_dummies(data[feature])\n",
    "    # préfixe le nouveau feature\n",
    "    temp_df = temp_df.add_prefix(pref)\n",
    "    # ajoute le nouveau feature\n",
    "    data = pd.concat([data, temp_df], axis=1)\n",
    "    # impute le pourcentage de surface du UseType\n",
    "    for i in data.columns[data.columns.str.contains(pref)]:\n",
    "        data[i] = data[i] * data[featureGFA]/data[ref]\n",
    "    # retourne le nouveau dataframe\n",
    "    return data\n",
    "\n"
   ]
  },
  {
   "cell_type": "code",
   "execution_count": 21,
   "metadata": {},
   "outputs": [],
   "source": [
    "# appliquer ce one-hot encoding spécial pour le 1er, 2ème et 3ème usage\n",
    "prep = onehotspecial(prep,\n",
    "                     'LargestPropertyUseType',\n",
    "                     'LargestPropertyUseTypeGFA',\n",
    "                     'L_',\n",
    "                     'PropertyGFABuilding(s)')\n",
    "prep = onehotspecial(prep,\n",
    "                     'SecondLargestPropertyUseType',\n",
    "                     'SecondLargestPropertyUseTypeGFA',\n",
    "                     'S_',\n",
    "                     'PropertyGFABuilding(s)')\n",
    "prep = onehotspecial(prep,\n",
    "                     'ThirdLargestPropertyUseType',\n",
    "                     'ThirdLargestPropertyUseTypeGFA',\n",
    "                     'T_',\n",
    "                     'PropertyGFABuilding(s)')"
   ]
  },
  {
   "cell_type": "code",
   "execution_count": 22,
   "metadata": {},
   "outputs": [
    {
     "data": {
      "text/plain": [
       "(6337, 196)"
      ]
     },
     "execution_count": 22,
     "metadata": {},
     "output_type": "execute_result"
    }
   ],
   "source": [
    "# contrôler le nombre de features\n",
    "prep.shape"
   ]
  },
  {
   "cell_type": "code",
   "execution_count": 23,
   "metadata": {},
   "outputs": [
    {
     "data": {
      "text/plain": [
       "66"
      ]
     },
     "execution_count": 23,
     "metadata": {},
     "output_type": "execute_result"
    }
   ],
   "source": [
    "# lister les UseType définis pour le 1er, 2ème et 3ème usage\n",
    "largest = prep['LargestPropertyUseType'].unique()\n",
    "second = prep['SecondLargestPropertyUseType'].unique()\n",
    "third = prep['ThirdLargestPropertyUseType'].unique()\n",
    "\n",
    "# consolider la liste des UseType\n",
    "UseTypeList = list(largest)\n",
    "UseTypeList.extend(x for x in second if x not in UseTypeList)\n",
    "UseTypeList.extend(x for x in third if x not in UseTypeList)\n",
    "\n",
    "# compter le nb d'UseType\n",
    "len(UseTypeList)"
   ]
  },
  {
   "cell_type": "code",
   "execution_count": 24,
   "metadata": {},
   "outputs": [],
   "source": [
    "# fusionner les UseType quelque soit l'ordre d'usage\n",
    "for i in UseTypeList:\n",
    "    j = str('_')+i\n",
    "    UseTypeCols = [col for col in prep.columns if j in col]\n",
    "    prep[i] = prep[UseTypeCols].sum(axis=1)"
   ]
  },
  {
   "cell_type": "code",
   "execution_count": 25,
   "metadata": {},
   "outputs": [
    {
     "data": {
      "text/plain": [
       "(6337, 262)"
      ]
     },
     "execution_count": 25,
     "metadata": {},
     "output_type": "execute_result"
    }
   ],
   "source": [
    "# contrôler le nb de features\n",
    "prep.shape"
   ]
  },
  {
   "cell_type": "code",
   "execution_count": 26,
   "metadata": {},
   "outputs": [
    {
     "data": {
      "text/plain": [
       "(6337, 108)"
      ]
     },
     "execution_count": 26,
     "metadata": {},
     "output_type": "execute_result"
    }
   ],
   "source": [
    "# retirer les colonnes inutiles\n",
    "DropCols = prep.columns[\n",
    "    prep.columns.str.contains('L_')\n",
    "    | prep.columns.str.contains('S_')\n",
    "    | prep.columns.str.contains('T_')\n",
    "]\n",
    "prep.drop(DropCols, axis=1, inplace=True)\n",
    "prep.shape"
   ]
  },
  {
   "cell_type": "code",
   "execution_count": 27,
   "metadata": {},
   "outputs": [
    {
     "name": "stdout",
     "output_type": "stream",
     "text": [
      "BuildingType\n",
      "(6337, 115)\n",
      "CouncilDistrictCode\n",
      "(6337, 121)\n",
      "Neighborhood\n",
      "(6337, 133)\n",
      "N_PrimaryPropertyType\n",
      "(6337, 150)\n"
     ]
    }
   ],
   "source": [
    "# appliquer l'encoding des variables catégorielles retenues\n",
    "for i in OH_Features:\n",
    "    print(i)\n",
    "    prep = onehot(prep, i)\n",
    "    print(prep.shape)"
   ]
  },
  {
   "cell_type": "code",
   "execution_count": 28,
   "metadata": {},
   "outputs": [],
   "source": [
    "# fonction de transformation des features numériques\n",
    "\n",
    "\n",
    "def rankgauss(data, feature):\n",
    "    # crée une instance de quatiletransformer\n",
    "    transformer = QuantileTransformer(n_quantiles=100,\n",
    "                                      random_state=1111,\n",
    "                                      output_distribution='normal')\n",
    "    # adpate au feature\n",
    "    transformer.fit(data[[feature]])\n",
    "    # préfixe le nouveau feature\n",
    "    newfeat = str('N_RG_' + feature)\n",
    "    # ajoute le nouveau feature transformé\n",
    "    data[newfeat] = transformer.transform(data[[feature]])\n",
    "    # nb on ne retire pas le feature dans sa version d'origine\n",
    "    # retourne le nouveau dataframe\n",
    "    return data\n",
    "\n"
   ]
  },
  {
   "cell_type": "code",
   "execution_count": 29,
   "metadata": {},
   "outputs": [
    {
     "name": "stdout",
     "output_type": "stream",
     "text": [
      "YearBuilt\n",
      "(6337, 151)\n",
      "NumberofBuildings\n",
      "(6337, 152)\n",
      "NumberofFloors\n",
      "(6337, 153)\n",
      "PropertyGFATotal\n",
      "(6337, 154)\n",
      "PropertyGFAParking\n",
      "(6337, 155)\n",
      "PropertyGFABuilding(s)\n",
      "(6337, 156)\n",
      "LargestPropertyUseTypeGFA\n",
      "(6337, 157)\n",
      "SecondLargestPropertyUseTypeGFA\n",
      "(6337, 158)\n",
      "ThirdLargestPropertyUseTypeGFA\n",
      "(6337, 159)\n",
      "Latitude\n",
      "(6337, 160)\n",
      "Longitude\n",
      "(6337, 161)\n"
     ]
    }
   ],
   "source": [
    "# appliquer le rankgauss aux features bruts\n",
    "for i in Raw_features:\n",
    "    print(i)\n",
    "    prep = rankgauss(prep, i)\n",
    "    print(prep.shape)"
   ]
  },
  {
   "cell_type": "code",
   "execution_count": 30,
   "metadata": {},
   "outputs": [
    {
     "name": "stdout",
     "output_type": "stream",
     "text": [
      "N_BuildingAge\n",
      "(6337, 162)\n"
     ]
    }
   ],
   "source": [
    "# appliquer le rankgauss aux features dérivés retenus\n",
    "for i in NTreat_features:\n",
    "    print(i)\n",
    "    prep = rankgauss(prep, i)\n",
    "    print(prep.shape)"
   ]
  },
  {
   "cell_type": "code",
   "execution_count": 31,
   "metadata": {
    "scrolled": false
   },
   "outputs": [
    {
     "data": {
      "image/png": "[encoded data removed]",
      "text/plain": [
       "<Figure size 864x360 with 2 Axes>"
      ]
     },
     "metadata": {
      "needs_background": "light"
     },
     "output_type": "display_data"
    },
    {
     "data": {
      "image/png": "[encoded data removed]",
      "text/plain": [
       "<Figure size 864x360 with 2 Axes>"
      ]
     },
     "metadata": {
      "needs_background": "light"
     },
     "output_type": "display_data"
    },
    {
     "data": {
      "image/png": "[encoded data removed]",
      "text/plain": [
       "<Figure size 864x360 with 2 Axes>"
      ]
     },
     "metadata": {
      "needs_background": "light"
     },
     "output_type": "display_data"
    },
    {
     "data": {
      "image/png": "[encoded data removed]",
      "text/plain": [
       "<Figure size 864x360 with 2 Axes>"
      ]
     },
     "metadata": {
      "needs_background": "light"
     },
     "output_type": "display_data"
    },
    {
     "data": {
      "image/png": "[encoded data removed]",
      "text/plain": [
       "<Figure size 864x360 with 2 Axes>"
      ]
     },
     "metadata": {
      "needs_background": "light"
     },
     "output_type": "display_data"
    },
    {
     "data": {
      "image/png": "[encoded data removed]",
      "text/plain": [
       "<Figure size 864x360 with 2 Axes>"
      ]
     },
     "metadata": {
      "needs_background": "light"
     },
     "output_type": "display_data"
    },
    {
     "data": {
      "image/png": "[encoded data removed]",
      "text/plain": [
       "<Figure size 864x360 with 2 Axes>"
      ]
     },
     "metadata": {
      "needs_background": "light"
     },
     "output_type": "display_data"
    },
    {
     "data": {
      "image/png": "[encoded data removed]",
      "text/plain": [
       "<Figure size 864x360 with 2 Axes>"
      ]
     },
     "metadata": {
      "needs_background": "light"
     },
     "output_type": "display_data"
    },
    {
     "data": {
      "image/png": "[encoded data removed]",
      "text/plain": [
       "<Figure size 864x360 with 2 Axes>"
      ]
     },
     "metadata": {
      "needs_background": "light"
     },
     "output_type": "display_data"
    },
    {
     "data": {
      "image/png": "[encoded data removed]",
      "text/plain": [
       "<Figure size 864x360 with 2 Axes>"
      ]
     },
     "metadata": {
      "needs_background": "light"
     },
     "output_type": "display_data"
    },
    {
     "data": {
      "image/png": "[encoded data removed]",
      "text/plain": [
       "<Figure size 864x360 with 2 Axes>"
      ]
     },
     "metadata": {
      "needs_background": "light"
     },
     "output_type": "display_data"
    }
   ],
   "source": [
    "# observer le résultat du traitement rankgauss:\n",
    "for i in Raw_features:\n",
    "    fig, (ax1, ax2) = plt.subplots(1, 2, figsize=[12, 5])\n",
    "    ax1.hist(prep[i], bins=100)\n",
    "    ax1.title.set_text(str('Original Data' + i))\n",
    "    ax2.hist(prep[str('N_RG_' + i)], bins=100)\n",
    "    ax2.title.set_text(str('RankGauss-ed Data' + i))\n",
    "    plt.show()"
   ]
  },
  {
   "cell_type": "code",
   "execution_count": 32,
   "metadata": {
    "scrolled": false
   },
   "outputs": [
    {
     "data": {
      "image/png": "[encoded data removed]",
      "text/plain": [
       "<Figure size 864x360 with 2 Axes>"
      ]
     },
     "metadata": {
      "needs_background": "light"
     },
     "output_type": "display_data"
    }
   ],
   "source": [
    "# observer le résultat du traitement :\n",
    "for i in NTreat_features:\n",
    "    fig, (ax1, ax2) = plt.subplots(1, 2, figsize=[12, 5])\n",
    "    ax1.hist(prep[i], bins=100)\n",
    "    ax1.title.set_text(str('Original Data' + i))\n",
    "    ax2.hist(prep[str('N_RG_' + i)], bins=100)\n",
    "    ax2.title.set_text(str('RankGauss-ed Data' + i))\n",
    "    plt.show()"
   ]
  },
  {
   "cell_type": "markdown",
   "metadata": {},
   "source": [
    "## Catégorisation des features (après traitement)"
   ]
  },
  {
   "cell_type": "markdown",
   "metadata": {},
   "source": [
    "- Catégorisation de tous les features ajoutés par les différents traitements."
   ]
  },
  {
   "cell_type": "code",
   "execution_count": 33,
   "metadata": {
    "scrolled": false
   },
   "outputs": [
    {
     "name": "stdout",
     "output_type": "stream",
     "text": [
      "162\n"
     ]
    },
    {
     "data": {
      "text/plain": [
       "Index(['OSEBuildingID', 'DataYear', 'YearBuilt', 'NumberofBuildings',\n",
       "       'NumberofFloors', 'PropertyGFATotal', 'PropertyGFAParking',\n",
       "       'PropertyGFABuilding(s)', 'LargestPropertyUseType',\n",
       "       'LargestPropertyUseTypeGFA',\n",
       "       ...\n",
       "       'N_RG_NumberofFloors', 'N_RG_PropertyGFATotal',\n",
       "       'N_RG_PropertyGFAParking', 'N_RG_PropertyGFABuilding(s)',\n",
       "       'N_RG_LargestPropertyUseTypeGFA',\n",
       "       'N_RG_SecondLargestPropertyUseTypeGFA',\n",
       "       'N_RG_ThirdLargestPropertyUseTypeGFA', 'N_RG_Latitude',\n",
       "       'N_RG_Longitude', 'N_RG_N_BuildingAge'],\n",
       "      dtype='object', length=162)"
      ]
     },
     "execution_count": 33,
     "metadata": {},
     "output_type": "execute_result"
    }
   ],
   "source": [
    "# lister les features disponibles\n",
    "print(prep.columns.size)\n",
    "prep.columns"
   ]
  },
  {
   "cell_type": "markdown",
   "metadata": {},
   "source": [
    "- 124 features ont été ajoutés (en comptant les 4 features unitiaux BuildingType, CouncilDistrictCode, Neighborhood et N_PrimaryPropertyType supprimés après One Hot encoding)"
   ]
  },
  {
   "cell_type": "code",
   "execution_count": 34,
   "metadata": {
    "scrolled": true
   },
   "outputs": [
    {
     "name": "stdout",
     "output_type": "stream",
     "text": [
      "46\n"
     ]
    },
    {
     "data": {
      "text/plain": [
       "Index(['N_OH_BuildingType_Campus', 'N_OH_BuildingType_Multifamily HR (10+)',\n",
       "       'N_OH_BuildingType_Multifamily LR (1-4)',\n",
       "       'N_OH_BuildingType_Multifamily MR (5-9)',\n",
       "       'N_OH_BuildingType_NonResidential',\n",
       "       'N_OH_BuildingType_Nonresidential COS',\n",
       "       'N_OH_BuildingType_Nonresidential WA',\n",
       "       'N_OH_BuildingType_SPS-District K-12', 'N_OH_CouncilDistrictCode_1',\n",
       "       'N_OH_CouncilDistrictCode_2', 'N_OH_CouncilDistrictCode_3',\n",
       "       'N_OH_CouncilDistrictCode_4', 'N_OH_CouncilDistrictCode_5',\n",
       "       'N_OH_CouncilDistrictCode_6', 'N_OH_CouncilDistrictCode_7',\n",
       "       'N_OH_Neighborhood_BALLARD', 'N_OH_Neighborhood_CENTRAL',\n",
       "       'N_OH_Neighborhood_DELRIDGE', 'N_OH_Neighborhood_DOWNTOWN',\n",
       "       'N_OH_Neighborhood_EAST', 'N_OH_Neighborhood_GREATER DUWAMISH',\n",
       "       'N_OH_Neighborhood_LAKE UNION',\n",
       "       'N_OH_Neighborhood_MAGNOLIA / QUEEN ANNE', 'N_OH_Neighborhood_NORTH',\n",
       "       'N_OH_Neighborhood_NORTHEAST', 'N_OH_Neighborhood_NORTHWEST',\n",
       "       'N_OH_Neighborhood_SOUTHEAST', 'N_OH_Neighborhood_SOUTHWEST',\n",
       "       'N_OH_N_PrimaryPropertyType_Distribution Center',\n",
       "       'N_OH_N_PrimaryPropertyType_Hospital',\n",
       "       'N_OH_N_PrimaryPropertyType_Hotel',\n",
       "       'N_OH_N_PrimaryPropertyType_Laboratory',\n",
       "       'N_OH_N_PrimaryPropertyType_Medical Office',\n",
       "       'N_OH_N_PrimaryPropertyType_N_Education',\n",
       "       'N_OH_N_PrimaryPropertyType_N_Office',\n",
       "       'N_OH_N_PrimaryPropertyType_N_Residential',\n",
       "       'N_OH_N_PrimaryPropertyType_N_Undefined',\n",
       "       'N_OH_N_PrimaryPropertyType_Non-Refrigerated Warehouse',\n",
       "       'N_OH_N_PrimaryPropertyType_Refrigerated Warehouse',\n",
       "       'N_OH_N_PrimaryPropertyType_Restaurant',\n",
       "       'N_OH_N_PrimaryPropertyType_Retail Store',\n",
       "       'N_OH_N_PrimaryPropertyType_Self-Storage Facility',\n",
       "       'N_OH_N_PrimaryPropertyType_Senior Care Community',\n",
       "       'N_OH_N_PrimaryPropertyType_Supermarket/Grocery Store',\n",
       "       'N_OH_N_PrimaryPropertyType_Warehouse',\n",
       "       'N_OH_N_PrimaryPropertyType_Worship Facility'],\n",
       "      dtype='object')"
      ]
     },
     "execution_count": 34,
     "metadata": {},
     "output_type": "execute_result"
    }
   ],
   "source": [
    "# compter et lister les features catégories one hot encoding\n",
    "Features_OH = prep.columns[prep.columns.str.contains('N_OH_')]\n",
    "print(Features_OH.size)\n",
    "Features_OH"
   ]
  },
  {
   "cell_type": "markdown",
   "metadata": {},
   "source": [
    "- 46 features suite au One Hot Encoding des catégories"
   ]
  },
  {
   "cell_type": "code",
   "execution_count": 35,
   "metadata": {
    "scrolled": false
   },
   "outputs": [
    {
     "name": "stdout",
     "output_type": "stream",
     "text": [
      "12\n"
     ]
    },
    {
     "data": {
      "text/plain": [
       "Index(['N_RG_YearBuilt', 'N_RG_NumberofBuildings', 'N_RG_NumberofFloors',\n",
       "       'N_RG_PropertyGFATotal', 'N_RG_PropertyGFAParking',\n",
       "       'N_RG_PropertyGFABuilding(s)', 'N_RG_LargestPropertyUseTypeGFA',\n",
       "       'N_RG_SecondLargestPropertyUseTypeGFA',\n",
       "       'N_RG_ThirdLargestPropertyUseTypeGFA', 'N_RG_Latitude',\n",
       "       'N_RG_Longitude', 'N_RG_N_BuildingAge'],\n",
       "      dtype='object')"
      ]
     },
     "execution_count": 35,
     "metadata": {},
     "output_type": "execute_result"
    }
   ],
   "source": [
    "# décompter le nb de features traités pour OH et RG\n",
    "Features_RG = prep.columns[prep.columns.str.contains('N_RG_')]\n",
    "print(Features_RG.size)\n",
    "Features_RG"
   ]
  },
  {
   "cell_type": "markdown",
   "metadata": {},
   "source": [
    "- 12 features suite au traitement numérique"
   ]
  },
  {
   "cell_type": "code",
   "execution_count": 36,
   "metadata": {
    "scrolled": true
   },
   "outputs": [
    {
     "name": "stdout",
     "output_type": "stream",
     "text": [
      "66\n"
     ]
    },
    {
     "data": {
      "text/plain": [
       "Index(['Hotel', 'Police Station', 'Other - Entertainment/Public Assembly',\n",
       "       'Multifamily Housing', 'Library', 'Fitness Center/Health Club/Gym',\n",
       "       'Social/Meeting Hall', 'Courthouse', 'Other', 'K-12 School',\n",
       "       'College/University', 'Automobile Dealership', 'Office',\n",
       "       'Self-Storage Facility', 'Senior Care Community', 'Medical Office',\n",
       "       'Retail Store', 'Hospital (General Medical & Surgical)', 'Museum',\n",
       "       'Repair Services', 'Other - Lodging/Residential',\n",
       "       'Residence Hall/Dormitory', 'Other/Specialty Hospital',\n",
       "       'Financial Office', 'Non-Refrigerated Warehouse', 'Distribution Center',\n",
       "       'Parking', 'Worship Facility', 'Laboratory',\n",
       "       'Supermarket/Grocery Store', 'Convention Center',\n",
       "       'Urgent Care/Clinic/Other Outpatient', 'Other - Services', 'Strip Mall',\n",
       "       'Wholesale Club/Supercenter', 'Refrigerated Warehouse',\n",
       "       'Other - Recreation', 'Lifestyle Center', 'Other - Public Services',\n",
       "       'Data Center', 'Other - Mall', 'Manufacturing/Industrial Plant',\n",
       "       'Restaurant', 'Other - Education', 'Fire Station', 'Performing Arts',\n",
       "       'Residential Care Facility', 'Bank Branch', 'Other - Restaurant/Bar',\n",
       "       'Food Service', 'Adult Education', 'Other - Utility', 'Movie Theater',\n",
       "       'Outpatient Rehabilitation/Physical Therapy', 'Personal Services',\n",
       "       'Pre-school/Daycare', 'Prison/Incarceration', 'None',\n",
       "       'Vocational School', 'Swimming Pool',\n",
       "       'Convenience Store without Gas Station', 'Bar/Nightclub', 'Food Sales',\n",
       "       'Enclosed Mall', 'Fast Food Restaurant', 'Other - Technology/Science'],\n",
       "      dtype='object')"
      ]
     },
     "execution_count": 36,
     "metadata": {},
     "output_type": "execute_result"
    }
   ],
   "source": [
    "# décompter le nb de features UseType\n",
    "Features_UseType = prep.columns.intersection(UseTypeList)\n",
    "print(Features_UseType.size)\n",
    "Features_UseType"
   ]
  },
  {
   "cell_type": "code",
   "execution_count": 37,
   "metadata": {},
   "outputs": [],
   "source": [
    "# exporter des données préparées :\n",
    "prep.to_csv('prep.csv', index=False)"
   ]
  },
  {
   "cell_type": "markdown",
   "metadata": {},
   "source": [
    "## validité des données pour une regression"
   ]
  },
  {
   "cell_type": "code",
   "execution_count": 38,
   "metadata": {},
   "outputs": [
    {
     "name": "stderr",
     "output_type": "stream",
     "text": [
      "9:80: E501 line too long (82 > 79 characters)\n",
      "10:80: E501 line too long (107 > 79 characters)\n"
     ]
    }
   ],
   "source": [
    "# fonction identifiant les meilleures corrélations entre un feature et la cible\n",
    "# paramètres : {data, features, target, sel_method, corrlevel}\n",
    "# sel_method='pearson' ou \"kendall' selon la nature du feature\n",
    "# corrlevel=seuil de corrélation minimale\n",
    "\n",
    "\n",
    "def features_corr(data, features, target, sel_method, corrlevel):\n",
    "    for i in features:\n",
    "        if abs(data[i].corr(np.log(data[target]), method=sel_method)) > corrlevel:\n",
    "            print(str(i) + ' - ' + str(target) + ' : ' + str(round(data[i].corr(np.log(data[target])), 2)))\n"
   ]
  },
  {
   "cell_type": "code",
   "execution_count": 39,
   "metadata": {},
   "outputs": [
    {
     "name": "stdout",
     "output_type": "stream",
     "text": [
      "- SiteEUI(kBtu/sf) correlations :\n",
      "- SiteEnergyUse(kBtu) correlations :\n",
      "PropertyGFATotal - SiteEnergyUse(kBtu) : 0.65\n",
      "PropertyGFABuilding(s) - SiteEnergyUse(kBtu) : 0.63\n",
      "LargestPropertyUseTypeGFA - SiteEnergyUse(kBtu) : 0.63\n",
      "- TotalGHGEmissions correlations :\n",
      "PropertyGFATotal - TotalGHGEmissions : 0.5\n",
      "PropertyGFABuilding(s) - TotalGHGEmissions : 0.5\n",
      "LargestPropertyUseTypeGFA - TotalGHGEmissions : 0.5\n",
      "- GHGEmissionsIntensity correlations :\n"
     ]
    },
    {
     "name": "stderr",
     "output_type": "stream",
     "text": [
      "1:80: E501 line too long (91 > 79 characters)\n"
     ]
    }
   ],
   "source": [
    "# calculer les corrélations de pearson pour les features numériques bruts avec chaque cible\n",
    "for j in Results:\n",
    "    print('- ' + str(j) + ' correlations :')\n",
    "    features_corr(prep, Raw_features, j, 'pearson', 0.5)"
   ]
  },
  {
   "cell_type": "code",
   "execution_count": 40,
   "metadata": {},
   "outputs": [
    {
     "name": "stdout",
     "output_type": "stream",
     "text": [
      "- SiteEUI(kBtu/sf) correlations :\n",
      "- SiteEnergyUse(kBtu) correlations :\n",
      "N_RG_PropertyGFATotal - SiteEnergyUse(kBtu) : 0.76\n",
      "N_RG_PropertyGFABuilding(s) - SiteEnergyUse(kBtu) : 0.75\n",
      "N_RG_LargestPropertyUseTypeGFA - SiteEnergyUse(kBtu) : 0.72\n",
      "- TotalGHGEmissions correlations :\n",
      "N_RG_PropertyGFATotal - TotalGHGEmissions : 0.59\n",
      "N_RG_PropertyGFABuilding(s) - TotalGHGEmissions : 0.6\n",
      "N_RG_LargestPropertyUseTypeGFA - TotalGHGEmissions : 0.57\n",
      "- GHGEmissionsIntensity correlations :\n"
     ]
    },
    {
     "name": "stderr",
     "output_type": "stream",
     "text": [
      "1:80: E501 line too long (93 > 79 characters)\n"
     ]
    }
   ],
   "source": [
    "# calculer les corrélations de pearson pour les features numériques traités avec chaque cible\n",
    "for j in Results:\n",
    "    print('- ' + str(j) + ' correlations :')\n",
    "    features_corr(prep, prep.columns[prep.columns.str.contains('N_RG_')], j, 'pearson', 0.5)"
   ]
  },
  {
   "cell_type": "code",
   "execution_count": 41,
   "metadata": {},
   "outputs": [
    {
     "name": "stdout",
     "output_type": "stream",
     "text": [
      "- SiteEUI(kBtu/sf) correlations :\n",
      "N_RG_YearBuilt - SiteEUI(kBtu/sf) : -0.03\n",
      "N_RG_N_BuildingAge - SiteEUI(kBtu/sf) : 0.02\n",
      "- SiteEnergyUse(kBtu) correlations :\n",
      "N_RG_YearBuilt - SiteEnergyUse(kBtu) : 0.15\n",
      "N_RG_N_BuildingAge - SiteEnergyUse(kBtu) : -0.16\n",
      "- TotalGHGEmissions correlations :\n",
      "N_RG_YearBuilt - TotalGHGEmissions : 0.05\n",
      "N_RG_N_BuildingAge - TotalGHGEmissions : -0.05\n",
      "- GHGEmissionsIntensity correlations :\n",
      "N_RG_YearBuilt - GHGEmissionsIntensity : -0.13\n",
      "N_RG_N_BuildingAge - GHGEmissionsIntensity : 0.15\n"
     ]
    }
   ],
   "source": [
    "# comparaison de l'année de construction versus age de construction\n",
    "for j in Results:\n",
    "    print('- ' + str(j) + ' correlations :')\n",
    "    features_corr(prep, ['N_RG_YearBuilt', 'N_RG_N_BuildingAge'], j, 'pearson', 0)"
   ]
  },
  {
   "cell_type": "code",
   "execution_count": 42,
   "metadata": {},
   "outputs": [
    {
     "data": {
      "text/plain": [
       "Index(['N_RG_YearBuilt', 'N_RG_NumberofBuildings', 'N_RG_NumberofFloors',\n",
       "       'N_RG_PropertyGFATotal', 'N_RG_PropertyGFAParking',\n",
       "       'N_RG_PropertyGFABuilding(s)', 'N_RG_LargestPropertyUseTypeGFA',\n",
       "       'N_RG_SecondLargestPropertyUseTypeGFA',\n",
       "       'N_RG_ThirdLargestPropertyUseTypeGFA', 'N_RG_Latitude',\n",
       "       'N_RG_Longitude', 'N_RG_N_BuildingAge'],\n",
       "      dtype='object')"
      ]
     },
     "execution_count": 42,
     "metadata": {},
     "output_type": "execute_result"
    }
   ],
   "source": [
    "prep.columns[prep.columns.str.contains('N_RG_')]"
   ]
  },
  {
   "cell_type": "code",
   "execution_count": 43,
   "metadata": {},
   "outputs": [
    {
     "name": "stdout",
     "output_type": "stream",
     "text": [
      "- SiteEUI(kBtu/sf) correlations :\n",
      "N_D_hasNaturalGas - SiteEUI(kBtu/sf) : 0.32\n",
      "N_D_BuildingType - SiteEUI(kBtu/sf) : 0.31\n",
      "- SiteEnergyUse(kBtu) correlations :\n",
      "N_D_hasNaturalGas - SiteEnergyUse(kBtu) : 0.32\n",
      "N_D_NbPropUseRange - SiteEnergyUse(kBtu) : 0.28\n",
      "N_D_NbofFloorsRange - SiteEnergyUse(kBtu) : 0.41\n",
      "N_D_BuildingType - SiteEnergyUse(kBtu) : 0.3\n",
      "- TotalGHGEmissions correlations :\n",
      "N_D_hasNaturalGas - TotalGHGEmissions : 0.63\n",
      "N_D_hasSteam - TotalGHGEmissions : 0.28\n",
      "N_D_BuildingType - TotalGHGEmissions : 0.3\n",
      "- GHGEmissionsIntensity correlations :\n",
      "N_D_hasNaturalGas - GHGEmissionsIntensity : 0.71\n",
      "N_D_BuildingType - GHGEmissionsIntensity : 0.27\n"
     ]
    },
    {
     "name": "stderr",
     "output_type": "stream",
     "text": [
      "1:80: E501 line too long (101 > 79 characters)\n"
     ]
    }
   ],
   "source": [
    "# calculer les corrélations de kendal pour les features \"pseudo-numériques\" traités avec chaque cible\n",
    "for j in Results:\n",
    "    print('- ' + str(j) + ' correlations :')\n",
    "    features_corr(prep, N_D_features, j, 'kendall', 0.2)"
   ]
  },
  {
   "cell_type": "code",
   "execution_count": 44,
   "metadata": {},
   "outputs": [
    {
     "name": "stdout",
     "output_type": "stream",
     "text": [
      "- SiteEUI(kBtu/sf) correlations :\n",
      "Multifamily Housing - SiteEUI(kBtu/sf) : -0.32\n",
      "Non-Refrigerated Warehouse - SiteEUI(kBtu/sf) : -0.21\n",
      "Supermarket/Grocery Store - SiteEUI(kBtu/sf) : 0.27\n",
      "- SiteEnergyUse(kBtu) correlations :\n",
      "Multifamily Housing - SiteEnergyUse(kBtu) : -0.29\n",
      "Office - SiteEnergyUse(kBtu) : 0.23\n",
      "- TotalGHGEmissions correlations :\n",
      "Multifamily Housing - TotalGHGEmissions : -0.29\n",
      "- GHGEmissionsIntensity correlations :\n",
      "Multifamily Housing - GHGEmissionsIntensity : -0.26\n"
     ]
    },
    {
     "name": "stderr",
     "output_type": "stream",
     "text": [
      "1:80: E501 line too long (90 > 79 characters)\n"
     ]
    }
   ],
   "source": [
    "# calculer les corrélations de pearson pour les features UseType traités avec chaque cible\n",
    "for j in Results:\n",
    "    print('- ' + str(j) + ' correlations :')\n",
    "    features_corr(prep, UseTypeList, j, 'pearson', 0.2)"
   ]
  },
  {
   "cell_type": "code",
   "execution_count": null,
   "metadata": {},
   "outputs": [],
   "source": []
  }
 ],
 "metadata": {
  "kernelspec": {
   "display_name": "Python 3",
   "language": "python",
   "name": "python3"
  },
  "language_info": {
   "codemirror_mode": {
    "name": "ipython",
    "version": 3
   },
   "file_extension": ".py",
   "mimetype": "text/x-python",
   "name": "python",
   "nbconvert_exporter": "python",
   "pygments_lexer": "ipython3",
   "version": "3.7.4"
  }
 },
 "nbformat": 4,
 "nbformat_minor": 2
}
